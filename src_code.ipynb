{
 "cells": [
  {
   "cell_type": "markdown",
   "id": "7c44f00e",
   "metadata": {},
   "source": [
    "## Contents: <a class=\"anchor\" id=\"Top\"></a>\n",
    "\n",
    "* [1. Approach - I](#1)\n",
    "    * [1.1 Data Cleaning](#1.1)\n",
    "    * [1.2 Data Analysis - Understanding the data](#1.2)\n",
    "    * [1.3  Data Pre-processing](#1.3)\n",
    "    * [1.4  Model Evaluation](#1.4)\n",
    "        * [1.4.1 Baseline Model (Dummy Regressor) Hits](#1.4.1)\n",
    "        * [1.4.2 Linear Regression](#1.4.1)\n",
    "* [2. Approach - II](#2)\n",
    "* [2.1 Feature Generation](#2.1)\n",
    "* [2.2 Data Analysis / Visualisation](#2.2)\n",
    "* [2.3 Data Pre-processing ](#2.3)\n",
    "* [2.4 Model Evaluation](#2.4)\n",
    "    * [2.4.1 Baseline Model (Dummy Regressor) Hits](#2.4.1)\n",
    "    * [2.4.2 Linear Regression](#2.4.2)\n",
    "    * [2.4.3 Decision Tree](#2.4.3)\n",
    "* [3. Approach - III](#3)\n",
    "    * [3.1 Model Evaluation](#3.1)\n",
    "         * [3.1.1 Logistic Regression](#3.1.1)\n",
    "* [4. Unseen Data (Real - Test set)](#4)\n",
    "    * [4.1 Model Performance on Unseen Data)](#4.1)\n",
    "* [5. Optimum TPH](#5)\n",
    "    * [5.1 Optimum TPH per Day](#5.1)\n",
    "    * [5.2 Optimum TPH per Month](#5.2)\n",
    "    * [5.3 Optimum TPH per Year](#5.3)\n",
    "* [6. Conclusion](#6)\n",
    "    \n",
    "                               \n",
    "\n"
   ]
  },
  {
   "cell_type": "markdown",
   "id": "57d75cae",
   "metadata": {},
   "source": [
    "---\n",
    "## Introduction\n",
    "\n",
    "> **The Scenario** \n",
    "> - For every 15 minutes an average queue over 5 minutes results in a \"hit\". The maximum hits per day is 4 and the maximum hits per month is 120. In order to efficiently manage the queue, the airport uses lanes to minimize the queues. These lanes are dependant on the number of Trays per hour (TPH) per lane. The higher the TPH per lane the lesser the total number of lanes opened. \n",
    "\n",
    "> **The Problem**\n",
    "> - Determining the optimum TPH to meet the target of 4 daily hits.\n",
    "\n",
    "> **My Intuition**\n",
    "> - This problem can be considered as a regression or a classification problem. I will be using 3 approaches:\n",
    ">> - Regression without feature extraction\n",
    ">> - Regression with feature extraction\n",
    ">> - Classification with feature extraction\n",
    "> - Based on the results, I will be choosing which model to choose and test with a sample of unseen data to get the optimum TPH. \n",
    "\n",
    "**Note: To directly skip to the answer click on these ->** [TPH per day](#5.1) | [TPH per Month](#5.1) |  [TPH per Year](#5.1)"
   ]
  },
  {
   "cell_type": "markdown",
   "id": "aeb8cac6",
   "metadata": {},
   "source": [
    "### Important Info\n",
    "Comments are written after **\"#\"** in each code block making it easier to understand the code. The whole process is documented.\n"
   ]
  },
  {
   "cell_type": "code",
   "execution_count": 1,
   "id": "6af5098f",
   "metadata": {},
   "outputs": [
    {
     "data": {
      "text/plain": [
       "3"
      ]
     },
     "execution_count": 1,
     "metadata": {},
     "output_type": "execute_result"
    }
   ],
   "source": [
    "# an example comment explaining the code block\n",
    "x =1 # an example comment explaining the code \n",
    "y = 2\n",
    "x+y"
   ]
  },
  {
   "cell_type": "markdown",
   "id": "51e18a1c",
   "metadata": {},
   "source": [
    "[Back to Contents](#Top)"
   ]
  },
  {
   "cell_type": "markdown",
   "id": "8a37b6be",
   "metadata": {},
   "source": [
    "---\n",
    "## Libraries\n",
    "\n",
    "Importing all the libraries required."
   ]
  },
  {
   "cell_type": "code",
   "execution_count": 2,
   "id": "ff098804",
   "metadata": {},
   "outputs": [],
   "source": [
    "# Ignore Warnings\n",
    "import warnings\n",
    "warnings.filterwarnings('always')\n",
    "warnings.filterwarnings('ignore')\n",
    "\n",
    "# Data Visualisation and Manipulation Libraries\n",
    "import numpy as np\n",
    "import pandas as pd\n",
    "import seaborn as sns\n",
    "sns.set_style(\"darkgrid\")\n",
    "import matplotlib.pyplot as plt\n",
    "\n",
    "# Data Preprocessing Libraries\n",
    "from sklearn.preprocessing import OneHotEncoder\n",
    "from sklearn.model_selection import train_test_split\n",
    "\n",
    "# Regression Model Libraries\n",
    "from sklearn.dummy import DummyRegressor\n",
    "from sklearn.preprocessing import MinMaxScaler\n",
    "from sklearn.linear_model import LinearRegression\n",
    "from sklearn.tree import DecisionTreeRegressor\n",
    "from sklearn.neighbors import KNeighborsRegressor\n",
    "\n",
    "# Classification Model Libraries\n",
    "from sklearn.linear_model import LogisticRegression\n",
    "\n",
    "\n",
    "# Evaluation Metric Libraries\n",
    "from sklearn.metrics import mean_squared_error, r2_score, mean_absolute_error  # Regression metrics\n",
    "from sklearn.metrics import classification_report, confusion_matrix  # Classification Metrics\n",
    "\n",
    "# Correlation Metric Libraries\n",
    "from scipy.stats import pearsonr\n",
    "\n",
    "# Hyperparameter Tuning Libraries\n",
    "import math\n",
    "import time\n",
    "from sklearn.model_selection import GridSearchCV, RandomizedSearchCV"
   ]
  },
  {
   "cell_type": "markdown",
   "id": "fa167005",
   "metadata": {},
   "source": [
    "[Back to Contents](#Top)"
   ]
  },
  {
   "cell_type": "markdown",
   "id": "1daeab36",
   "metadata": {},
   "source": [
    "---\n",
    "## 1. Approach - I <a class=\"anchor\" id=\"1\"></a>\n",
    "\n",
    "> Solving a regression problem with no additional features generated."
   ]
  },
  {
   "cell_type": "code",
   "execution_count": 3,
   "id": "ab1035e0",
   "metadata": {},
   "outputs": [],
   "source": [
    "df1 = pd.read_excel(\"/Users/bharathsimha/Desktop/Gatwick/1.xlsx\") # loading the dataset"
   ]
  },
  {
   "cell_type": "code",
   "execution_count": 4,
   "id": "b969fe30",
   "metadata": {},
   "outputs": [
    {
     "data": {
      "text/html": [
       "<div>\n",
       "<style scoped>\n",
       "    .dataframe tbody tr th:only-of-type {\n",
       "        vertical-align: middle;\n",
       "    }\n",
       "\n",
       "    .dataframe tbody tr th {\n",
       "        vertical-align: top;\n",
       "    }\n",
       "\n",
       "    .dataframe thead th {\n",
       "        text-align: right;\n",
       "    }\n",
       "</style>\n",
       "<table border=\"1\" class=\"dataframe\">\n",
       "  <thead>\n",
       "    <tr style=\"text-align: right;\">\n",
       "      <th></th>\n",
       "      <th>Date</th>\n",
       "      <th>TPH</th>\n",
       "      <th>Hits</th>\n",
       "    </tr>\n",
       "  </thead>\n",
       "  <tbody>\n",
       "    <tr>\n",
       "      <th>0</th>\n",
       "      <td>2022-05-01</td>\n",
       "      <td>750</td>\n",
       "      <td>4</td>\n",
       "    </tr>\n",
       "    <tr>\n",
       "      <th>1</th>\n",
       "      <td>2022-05-02</td>\n",
       "      <td>750</td>\n",
       "      <td>8</td>\n",
       "    </tr>\n",
       "    <tr>\n",
       "      <th>2</th>\n",
       "      <td>2022-05-03</td>\n",
       "      <td>750</td>\n",
       "      <td>0</td>\n",
       "    </tr>\n",
       "    <tr>\n",
       "      <th>3</th>\n",
       "      <td>2022-05-04</td>\n",
       "      <td>750</td>\n",
       "      <td>6</td>\n",
       "    </tr>\n",
       "    <tr>\n",
       "      <th>4</th>\n",
       "      <td>2022-05-05</td>\n",
       "      <td>750</td>\n",
       "      <td>2</td>\n",
       "    </tr>\n",
       "  </tbody>\n",
       "</table>\n",
       "</div>"
      ],
      "text/plain": [
       "        Date  TPH  Hits\n",
       "0 2022-05-01  750     4\n",
       "1 2022-05-02  750     8\n",
       "2 2022-05-03  750     0\n",
       "3 2022-05-04  750     6\n",
       "4 2022-05-05  750     2"
      ]
     },
     "execution_count": 4,
     "metadata": {},
     "output_type": "execute_result"
    }
   ],
   "source": [
    "df1.head() # preview of the data"
   ]
  },
  {
   "cell_type": "code",
   "execution_count": 5,
   "id": "4a1f8ea7",
   "metadata": {},
   "outputs": [
    {
     "data": {
      "text/plain": [
       "236"
      ]
     },
     "execution_count": 5,
     "metadata": {},
     "output_type": "execute_result"
    }
   ],
   "source": [
    "len(df1) # length of the data "
   ]
  },
  {
   "cell_type": "code",
   "execution_count": 6,
   "id": "e7e8bfb3",
   "metadata": {},
   "outputs": [
    {
     "name": "stdout",
     "output_type": "stream",
     "text": [
      "<class 'pandas.core.frame.DataFrame'>\n",
      "RangeIndex: 236 entries, 0 to 235\n",
      "Data columns (total 3 columns):\n",
      " #   Column  Non-Null Count  Dtype         \n",
      "---  ------  --------------  -----         \n",
      " 0   Date    236 non-null    datetime64[ns]\n",
      " 1   TPH     236 non-null    int64         \n",
      " 2   Hits    236 non-null    int64         \n",
      "dtypes: datetime64[ns](1), int64(2)\n",
      "memory usage: 5.7 KB\n"
     ]
    }
   ],
   "source": [
    "df1.info() # information about the columns and data in the data set "
   ]
  },
  {
   "cell_type": "markdown",
   "id": "2af9f2bb",
   "metadata": {},
   "source": [
    "> We determine the dependent and independednt features:\n",
    "> - TPH is an independent feature (column)\n",
    "> - Hits is a dependent feature (column)\n",
    "> - Hits is the target feature (column)\n",
    "> - The target feature (Hits) is of continuous data which means it is a regression problem. "
   ]
  },
  {
   "cell_type": "markdown",
   "id": "1a110352",
   "metadata": {},
   "source": [
    "[Back to Contents](#Top)"
   ]
  },
  {
   "cell_type": "markdown",
   "id": "77ac4420",
   "metadata": {},
   "source": [
    "---\n",
    "## 1.1 Data Cleaning <a class=\"anchor\" id=\"1.1\"></a>"
   ]
  },
  {
   "cell_type": "code",
   "execution_count": 7,
   "id": "ade15452",
   "metadata": {},
   "outputs": [
    {
     "name": "stdout",
     "output_type": "stream",
     "text": [
      "There are 96 intervals of 15 minutes in a day\n"
     ]
    }
   ],
   "source": [
    "# Lets find out how many 15 minutes are there in a day\n",
    "\n",
    "hours = 24\n",
    "interval = 4     # 15 minute interval in 1 hour\n",
    "print(f\"There are {hours * interval} intervals of 15 minutes in a day\")"
   ]
  },
  {
   "cell_type": "code",
   "execution_count": 8,
   "id": "1e075d51",
   "metadata": {},
   "outputs": [
    {
     "data": {
      "text/html": [
       "<div>\n",
       "<style scoped>\n",
       "    .dataframe tbody tr th:only-of-type {\n",
       "        vertical-align: middle;\n",
       "    }\n",
       "\n",
       "    .dataframe tbody tr th {\n",
       "        vertical-align: top;\n",
       "    }\n",
       "\n",
       "    .dataframe thead th {\n",
       "        text-align: right;\n",
       "    }\n",
       "</style>\n",
       "<table border=\"1\" class=\"dataframe\">\n",
       "  <thead>\n",
       "    <tr style=\"text-align: right;\">\n",
       "      <th></th>\n",
       "      <th>Date</th>\n",
       "      <th>TPH</th>\n",
       "      <th>Hits</th>\n",
       "    </tr>\n",
       "  </thead>\n",
       "  <tbody>\n",
       "  </tbody>\n",
       "</table>\n",
       "</div>"
      ],
      "text/plain": [
       "Empty DataFrame\n",
       "Columns: [Date, TPH, Hits]\n",
       "Index: []"
      ]
     },
     "execution_count": 8,
     "metadata": {},
     "output_type": "execute_result"
    }
   ],
   "source": [
    "# 1 hit is in a 15 minute interval \n",
    "# So if there are greater than 96 intervals in a day there is a chance that something is wrong with the data\n",
    "\n",
    "df1[df1[\"Hits\"] > 96]"
   ]
  },
  {
   "cell_type": "code",
   "execution_count": 9,
   "id": "83c767a9",
   "metadata": {},
   "outputs": [
    {
     "data": {
      "text/plain": [
       "Date    False\n",
       "TPH     False\n",
       "Hits    False\n",
       "dtype: bool"
      ]
     },
     "execution_count": 9,
     "metadata": {},
     "output_type": "execute_result"
    }
   ],
   "source": [
    "# Checking for null values\n",
    "\n",
    "df1.isna().any()"
   ]
  },
  {
   "cell_type": "code",
   "execution_count": 10,
   "id": "a2bdedd3",
   "metadata": {},
   "outputs": [
    {
     "data": {
      "text/plain": [
       "False"
      ]
     },
     "execution_count": 10,
     "metadata": {},
     "output_type": "execute_result"
    }
   ],
   "source": [
    "# Checking for duplicate values (already checked in excel, verifying again in python)\n",
    "\n",
    "df1.duplicated().any()"
   ]
  },
  {
   "cell_type": "code",
   "execution_count": 11,
   "id": "b2f3480c",
   "metadata": {},
   "outputs": [
    {
     "data": {
      "text/plain": [
       "False"
      ]
     },
     "execution_count": 11,
     "metadata": {},
     "output_type": "execute_result"
    }
   ],
   "source": [
    "df1.duplicated(subset=[\"Date\"]).any()"
   ]
  },
  {
   "cell_type": "markdown",
   "id": "94b5a45a",
   "metadata": {},
   "source": [
    "> **Observations**\n",
    "> - No data corruption or false collected data found\n",
    "> - There are no null values in the dataset\n",
    "> - There are no duplicate values in the date feature \n",
    "> - `The data is clean`\n",
    "\n"
   ]
  },
  {
   "cell_type": "markdown",
   "id": "e039ed6d",
   "metadata": {},
   "source": [
    "[Back to Contents](#Top)"
   ]
  },
  {
   "cell_type": "markdown",
   "id": "0a910da8",
   "metadata": {},
   "source": [
    "---\n",
    "## 1.2 Data Analysis - Understanding the data <a class=\"anchor\" id=\"1.2\"></a>"
   ]
  },
  {
   "cell_type": "code",
   "execution_count": 12,
   "id": "79ee0e61",
   "metadata": {},
   "outputs": [
    {
     "data": {
      "text/plain": [
       "(57,\n",
       "          Date  TPH  Hits\n",
       " 59 2022-06-29  750    57\n",
       " 63 2022-07-03  750    57)"
      ]
     },
     "execution_count": 12,
     "metadata": {},
     "output_type": "execute_result"
    }
   ],
   "source": [
    "# maximum hits \n",
    "\n",
    "df1[\"Hits\"].max(), df1[df1[\"Hits\"]==57]"
   ]
  },
  {
   "cell_type": "code",
   "execution_count": 13,
   "id": "e125b76a",
   "metadata": {},
   "outputs": [
    {
     "data": {
      "text/plain": [
       "Text(0.5, 1.0, 'Distribution of Hits')"
      ]
     },
     "execution_count": 13,
     "metadata": {},
     "output_type": "execute_result"
    },
    {
     "data": {
      "image/png": "[encoded data removed]",
      "text/plain": [
       "<Figure size 432x288 with 1 Axes>"
      ]
     },
     "metadata": {},
     "output_type": "display_data"
    }
   ],
   "source": [
    "## Continuous Variables\n",
    "# plot to understand the distributon of hits (bins) in the data\n",
    "sns.histplot(data=df1, x =\"Hits\", \n",
    "             bins = 10, stat = \"count\", color = \"orangered\", \n",
    "             edgecolor = \"black\", linewidth = 2).set_title(\"Distribution of Hits\", fontsize = 15)"
   ]
  },
  {
   "cell_type": "markdown",
   "id": "a8b908a5",
   "metadata": {},
   "source": [
    "> An observation from the above plot is that the target variable (Hits) has a **skewed distribution** **(Right Skewed)** than a normal distribution. "
   ]
  },
  {
   "cell_type": "code",
   "execution_count": 14,
   "id": "2d9b8f62",
   "metadata": {},
   "outputs": [
    {
     "data": {
      "text/plain": [
       "(Date    129\n",
       " TPH     129\n",
       " Hits    129\n",
       " dtype: int64,\n",
       " Date    107\n",
       " TPH     107\n",
       " Hits    107\n",
       " dtype: int64)"
      ]
     },
     "execution_count": 14,
     "metadata": {},
     "output_type": "execute_result"
    }
   ],
   "source": [
    "# calculating the distribution of hits in the data from the above plot\n",
    "\n",
    "df1[df1[\"Hits\"]<=4].count(), df1[(df1[\"Hits\"]>4)].count()"
   ]
  },
  {
   "cell_type": "code",
   "execution_count": 15,
   "id": "e3cc1715",
   "metadata": {},
   "outputs": [
    {
     "name": "stdout",
     "output_type": "stream",
     "text": [
      "The number of hits less than and equal to 4 in the data = 54.66%\n",
      "The number of hits greater than 4 in the data = 45.34%\n"
     ]
    }
   ],
   "source": [
    "print(f'The number of hits less than and equal to 4 in the data = {round((129/len(df1)) * 100,2)}%')# Percentage calc\n",
    "print(f'The number of hits greater than 4 in the data = {100 - round((129/len(df1)) * 100,2)}%')# Percentage calc"
   ]
  },
  {
   "cell_type": "code",
   "execution_count": 16,
   "id": "5a6374dd",
   "metadata": {},
   "outputs": [
    {
     "data": {
      "text/plain": [
       "Text(0.5, 1.0, 'Distribution of Hits')"
      ]
     },
     "execution_count": 16,
     "metadata": {},
     "output_type": "execute_result"
    },
    {
     "data": {
      "image/png": "[encoded data removed]",
      "text/plain": [
       "<Figure size 432x288 with 1 Axes>"
      ]
     },
     "metadata": {},
     "output_type": "display_data"
    }
   ],
   "source": [
    "# Plot to understand the distribution of TPH in the data \n",
    "sns.histplot(data=df1, x =\"TPH\", \n",
    "             bins = 10, stat = \"count\", color = \"deepskyblue\", \n",
    "             edgecolor = \"black\", linewidth = 2).set_title(\"Distribution of Hits\", fontsize = 15)"
   ]
  },
  {
   "cell_type": "code",
   "execution_count": 17,
   "id": "f4df62fc",
   "metadata": {},
   "outputs": [
    {
     "data": {
      "text/plain": [
       "array([750, 650, 700])"
      ]
     },
     "execution_count": 17,
     "metadata": {},
     "output_type": "execute_result"
    }
   ],
   "source": [
    "# calculating the distribution of TPH in the data from the above plot\n",
    "\n",
    "df1[\"TPH\"].unique() # there are 3 unique TPH values in the data"
   ]
  },
  {
   "cell_type": "code",
   "execution_count": 18,
   "id": "f2f70ecb",
   "metadata": {},
   "outputs": [
    {
     "data": {
      "text/plain": [
       "(Date    153\n",
       " TPH     153\n",
       " Hits    153\n",
       " dtype: int64,\n",
       " Date    11\n",
       " TPH     11\n",
       " Hits    11\n",
       " dtype: int64,\n",
       " Date    72\n",
       " TPH     72\n",
       " Hits    72\n",
       " dtype: int64)"
      ]
     },
     "execution_count": 18,
     "metadata": {},
     "output_type": "execute_result"
    }
   ],
   "source": [
    "df1[df1[\"TPH\"]==750].count(), df1[(df1[\"TPH\"]==700)].count(), df1[(df1[\"TPH\"]==650)].count()"
   ]
  },
  {
   "cell_type": "code",
   "execution_count": 19,
   "id": "4e55828c",
   "metadata": {},
   "outputs": [
    {
     "name": "stdout",
     "output_type": "stream",
     "text": [
      "The distribution of 750 TPH per lane in the data = 64.83%\n",
      "The distribution of 700 TPH per lane in the data = 4.66%\n",
      "The distribution of 650 TPH per lane in the data = 30.51%\n"
     ]
    }
   ],
   "source": [
    "print(f'The distribution of 750 TPH per lane in the data = {round((153/len(df1)) * 100,2)}%')# Percentage calc\n",
    "print(f'The distribution of 700 TPH per lane in the data = {round((11/len(df1)) * 100,2)}%')# Percentage calc\n",
    "print(f'The distribution of 650 TPH per lane in the data = {round((72/len(df1)) * 100,2)}%')# Percentage calc"
   ]
  },
  {
   "cell_type": "code",
   "execution_count": 20,
   "id": "acf0f166",
   "metadata": {},
   "outputs": [
    {
     "data": {
      "text/plain": [
       "[Text(0.5, 1.0, 'TPH vs Hits')]"
      ]
     },
     "execution_count": 20,
     "metadata": {},
     "output_type": "execute_result"
    },
    {
     "data": {
      "image/png": "[encoded data removed]",
      "text/plain": [
       "<Figure size 432x288 with 1 Axes>"
      ]
     },
     "metadata": {},
     "output_type": "display_data"
    }
   ],
   "source": [
    "# Plot to understand the distribution of Hits vs TPH\n",
    "\n",
    "sns.lineplot(data = df1, x = \"TPH\", y = \"Hits\").set(title='TPH vs Hits')\n"
   ]
  },
  {
   "cell_type": "markdown",
   "id": "9af4032a",
   "metadata": {},
   "source": [
    "> In the question, there was an observation that a planning assumption of **750 trays per hour** (750 TPH) results in a **higher** than acceptable amount of daily **hits** and on the other hand, a plannning assumption of **650 TPH** results in **virtually no hits**. `The plot above shows a similar pattern to the observation.` "
   ]
  },
  {
   "cell_type": "code",
   "execution_count": 21,
   "id": "2afff08f",
   "metadata": {},
   "outputs": [
    {
     "data": {
      "text/plain": [
       "(Date    52\n",
       " TPH     52\n",
       " Hits    52\n",
       " dtype: int64,\n",
       " Date    7\n",
       " TPH     7\n",
       " Hits    7\n",
       " dtype: int64,\n",
       " Date    70\n",
       " TPH     70\n",
       " Hits    70\n",
       " dtype: int64)"
      ]
     },
     "execution_count": 21,
     "metadata": {},
     "output_type": "execute_result"
    }
   ],
   "source": [
    "# distribution of Hits in TPH analysis\n",
    "\n",
    "df1[(df1[\"TPH\"]==750) & (df1[\"Hits\"]<=4)].count(), df1[(df1[\"TPH\"]==700) & (df1[\"Hits\"]<=4)].count(), df1[(df1[\"TPH\"]==650) & (df1[\"Hits\"]<=4)].count()"
   ]
  },
  {
   "cell_type": "code",
   "execution_count": 22,
   "id": "0af53f69",
   "metadata": {},
   "outputs": [
    {
     "name": "stdout",
     "output_type": "stream",
     "text": [
      "The distribution of Hits <=4 in 750 TPH = 33.99%\n",
      "The distribution of Hits <=4 in 700 TPH = 63.64%\n",
      "The distribution of Hits <=4 in 650 TPH = 97.22%\n"
     ]
    }
   ],
   "source": [
    "print(f'The distribution of Hits <=4 in 750 TPH = {round((52/153) * 100,2)}%')# Percentage calc\n",
    "print(f'The distribution of Hits <=4 in 700 TPH = {round((7/11) * 100,2)}%')# Percentage calc\n",
    "print(f'The distribution of Hits <=4 in 650 TPH = {round((70/72) * 100,2)}%')# Percentage calc"
   ]
  },
  {
   "cell_type": "markdown",
   "id": "9e3c2b4b",
   "metadata": {},
   "source": [
    "> The above analysis  also supports the observation of higher the TPH, higher the Hits. "
   ]
  },
  {
   "cell_type": "code",
   "execution_count": 23,
   "id": "ffe1328d",
   "metadata": {},
   "outputs": [
    {
     "data": {
      "text/plain": [
       "Text(0.5, 1.0, 'Boxplot of Hits (Outlier Detection)')"
      ]
     },
     "execution_count": 23,
     "metadata": {},
     "output_type": "execute_result"
    },
    {
     "data": {
      "image/png": "[encoded data removed]",
      "text/plain": [
       "<Figure size 720x432 with 1 Axes>"
      ]
     },
     "metadata": {},
     "output_type": "display_data"
    }
   ],
   "source": [
    "# Checking for any possible outliers \n",
    "\n",
    "plt.figure(figsize=(10,6))\n",
    "sns.boxplot(df1[\"Hits\"])\n",
    "plt.title(\"Boxplot of Hits (Outlier Detection)\",fontweight=\"bold\")"
   ]
  },
  {
   "cell_type": "code",
   "execution_count": 24,
   "id": "1b8cd4c8",
   "metadata": {},
   "outputs": [
    {
     "data": {
      "text/plain": [
       "[57, 57, 55]"
      ]
     },
     "execution_count": 24,
     "metadata": {},
     "output_type": "execute_result"
    }
   ],
   "source": [
    "# outlier detection\n",
    "\n",
    "outliers=[]\n",
    "def detect_outlier(data_1): # function to detect the outliers in the data\n",
    "    \n",
    "    threshold=3\n",
    "    mean_1 = np.mean(data_1)\n",
    "    std_1 =np.std(data_1)\n",
    "    \n",
    "    \n",
    "    for y in data_1:\n",
    "        z_score= (y - mean_1)/std_1 \n",
    "        if np.abs(z_score) > threshold:\n",
    "            outliers.append(y)\n",
    "    return outliers\n",
    "\n",
    "detect_outlier(df1[\"Hits\"])"
   ]
  },
  {
   "cell_type": "markdown",
   "id": "f18634f0",
   "metadata": {},
   "source": [
    "> Here the boxplot does show outliers below 50 hits which is not captured by the function. So I have to find it manually."
   ]
  },
  {
   "cell_type": "code",
   "execution_count": 25,
   "id": "19cb554d",
   "metadata": {},
   "outputs": [],
   "source": [
    "df1.drop(df1[df1[\"Hits\"]>45].index,inplace=True) # Finding and dropping the outliers"
   ]
  },
  {
   "cell_type": "code",
   "execution_count": 26,
   "id": "a5b89cad",
   "metadata": {},
   "outputs": [
    {
     "data": {
      "text/html": [
       "<div>\n",
       "<style scoped>\n",
       "    .dataframe tbody tr th:only-of-type {\n",
       "        vertical-align: middle;\n",
       "    }\n",
       "\n",
       "    .dataframe tbody tr th {\n",
       "        vertical-align: top;\n",
       "    }\n",
       "\n",
       "    .dataframe thead th {\n",
       "        text-align: right;\n",
       "    }\n",
       "</style>\n",
       "<table border=\"1\" class=\"dataframe\">\n",
       "  <thead>\n",
       "    <tr style=\"text-align: right;\">\n",
       "      <th></th>\n",
       "      <th>Date</th>\n",
       "      <th>TPH</th>\n",
       "      <th>Hits</th>\n",
       "    </tr>\n",
       "  </thead>\n",
       "  <tbody>\n",
       "  </tbody>\n",
       "</table>\n",
       "</div>"
      ],
      "text/plain": [
       "Empty DataFrame\n",
       "Columns: [Date, TPH, Hits]\n",
       "Index: []"
      ]
     },
     "execution_count": 26,
     "metadata": {},
     "output_type": "execute_result"
    }
   ],
   "source": [
    "df1[df1[\"Hits\"]>45] # outliers dropped"
   ]
  },
  {
   "cell_type": "markdown",
   "id": "e5e82ac6",
   "metadata": {},
   "source": [
    "> **Observations**\n",
    "> - After visualising the data through various plots and conducting different analysis, these are the observations:\n",
    ">> - The maximum observed hits are 57 on two days 29th June and 03rd July both were in the 750 TPH.\n",
    ">> - The target variable (Hits) distribution is right skewed.\n",
    ">> - 54.6% of the data did not cross the 4 hits limit per day. \n",
    ">> - About 65% of the data has 750 TPH followed by 650 TPH of 30.5%, and 700 TPH of 4.6%.\n",
    ">> - Although 65% of data has 750 TPH, Only 33.9% of all the Hits in 750 TPH did not cross the limit. \n",
    ">> - 97.2% of all the Hits in 650 TPH did not cross the limit (<=4), supporting the observation of TPH being  proportional to Hits.\n",
    ">> - There were 3 outliers found in the data, which have been dropped.\n",
    ">> - `Data Analysis is done`"
   ]
  },
  {
   "cell_type": "markdown",
   "id": "bd2a3961",
   "metadata": {},
   "source": [
    "[Back to Contents](#Top)"
   ]
  },
  {
   "cell_type": "markdown",
   "id": "d0c02abf",
   "metadata": {},
   "source": [
    "---\n",
    "## 1.3 Data Pre-processing <a class=\"anchor\" id=\"1.3\"></a>"
   ]
  },
  {
   "cell_type": "code",
   "execution_count": 27,
   "id": "a5b5b79e",
   "metadata": {},
   "outputs": [
    {
     "data": {
      "text/plain": [
       "Text(0.5, 1.0, 'Correlation Plot')"
      ]
     },
     "execution_count": 27,
     "metadata": {},
     "output_type": "execute_result"
    },
    {
     "data": {
      "image/png": "[encoded data removed]",
      "text/plain": [
       "<Figure size 432x288 with 1 Axes>"
      ]
     },
     "metadata": {},
     "output_type": "display_data"
    }
   ],
   "source": [
    "# Correlation plot\n",
    "\n",
    "correlation = pd.DataFrame(df1.corr()).reset_index().sort_values(by = 'Hits',ascending = False)\n",
    "sns.barplot(x = 'Hits',y = 'index',data = correlation,color=\"orangered\",linewidth=2,edgecolor=\".2\")\n",
    "sns.set(rc = {'figure.figsize':(8,8)})\n",
    "plt.title(\"Correlation Plot\",fontweight=\"bold\")"
   ]
  },
  {
   "cell_type": "markdown",
   "id": "fc155718",
   "metadata": {},
   "source": [
    "\n",
    "> - A positive correlation between two features:\n",
    ">> -  They are **directly proportional** to the target feature i.e if x (feature) increases y (target) also increases. The higher the correlation the stronger the proportionality.\n",
    "> - To measure the strength and significance of correlation, correlation analysis is used. "
   ]
  },
  {
   "cell_type": "code",
   "execution_count": 28,
   "id": "233c5a27",
   "metadata": {},
   "outputs": [
    {
     "name": "stdout",
     "output_type": "stream",
     "text": [
      "Pearsons correlation: 0.516\n"
     ]
    }
   ],
   "source": [
    "# Correlation analysis\n",
    "\n",
    "# calculate Pearson's correlation\n",
    "corr, _ = pearsonr(df1[\"TPH\"], df1[\"Hits\"])\n",
    "print('Pearsons correlation: %.3f' % corr)"
   ]
  },
  {
   "cell_type": "markdown",
   "id": "f369cf4d",
   "metadata": {},
   "source": [
    "> The correlation score is greater than 0.5 which means there is **strong positive linear relationship** between TPH and Hits. This also supports the observation made about TPH being proportional to Hits. `Data Preprocessing is done`.\n",
    "\n",
    "---"
   ]
  },
  {
   "cell_type": "markdown",
   "id": "e4aa7fae",
   "metadata": {},
   "source": [
    "[Back to Contents](#Top)"
   ]
  },
  {
   "cell_type": "markdown",
   "id": "d40f8eb7",
   "metadata": {},
   "source": [
    "## 1.4 Model Evaluation <a class=\"anchor\" id=\"1.4\"></a>\n",
    "\n",
    "\n",
    "> I will be considering 2 different models:\n",
    "> - Dummy Regressor baseline\n",
    "> - Linear Regression\n",
    "\n",
    "I will evaluate the models and select the best one. "
   ]
  },
  {
   "cell_type": "code",
   "execution_count": 29,
   "id": "bfdf1ce9",
   "metadata": {},
   "outputs": [
    {
     "name": "stdout",
     "output_type": "stream",
     "text": [
      "The train test split (90:10): (208,) (24,)\n"
     ]
    }
   ],
   "source": [
    "# X  = Other features, Y = Target feature\n",
    "X = df1[\"TPH\"]\n",
    "Y = df1[\"Hits\"]\n",
    "\n",
    "\n",
    "x_train, x_test, y_train, y_test = train_test_split(X, Y, test_size=0.1, random_state=42) # train - test split\n",
    "\n",
    "print(\"The train test split (90:10):\",x_train.shape, x_test.shape)"
   ]
  },
  {
   "cell_type": "code",
   "execution_count": 30,
   "id": "e0047e8b",
   "metadata": {},
   "outputs": [],
   "source": [
    "# Data is divided into x train and y train \n",
    "x_train = x_train.to_numpy()\n",
    "x_test = x_test.to_numpy()"
   ]
  },
  {
   "cell_type": "markdown",
   "id": "ec3ed34e",
   "metadata": {},
   "source": [
    "---\n",
    "## 1.4.1 Baseline Model (Dummy Regressor) Hits <a class=\"anchor\" id=\"1.4.1\"></a>\n",
    "\n",
    "- Regressor that makes predictions using simple rules."
   ]
  },
  {
   "cell_type": "code",
   "execution_count": 31,
   "id": "15bc9f3a",
   "metadata": {},
   "outputs": [
    {
     "name": "stdout",
     "output_type": "stream",
     "text": [
      "Training Set:\n",
      "R2 score = 0.0\n"
     ]
    }
   ],
   "source": [
    "dummy_regr = DummyRegressor() # instantiating the regressor\n",
    "dummy_regr.fit(x_train, y_train) # fitting the train to the model \n",
    "\n",
    "pred_tr = dummy_regr.predict(x_train)\n",
    "\n",
    "#scores\n",
    "print(\"Training Set:\")\n",
    "print(f'R2 score = {r2_score(y_train,pred_tr)}') \n"
   ]
  },
  {
   "cell_type": "code",
   "execution_count": 32,
   "id": "0b53b22f",
   "metadata": {},
   "outputs": [
    {
     "data": {
      "text/plain": [
       "Text(0.5, 1.0, 'Residual Plot')"
      ]
     },
     "execution_count": 32,
     "metadata": {},
     "output_type": "execute_result"
    },
    {
     "data": {
      "image/png": "[encoded data removed]",
      "text/plain": [
       "<Figure size 576x576 with 1 Axes>"
      ]
     },
     "metadata": {},
     "output_type": "display_data"
    }
   ],
   "source": [
    "residuals = y_train - pred_tr # residuals \n",
    "\n",
    "sns.scatterplot(x=y_train,y=residuals)\n",
    "y = np.linspace(0,3500,100)\n",
    "x = np.linspace(0,0)\n",
    "plt.axhline(y=0, color='r', linestyle='-')\n",
    "sns.set(rc = {'figure.figsize':(6,6)})\n",
    "plt.xlabel(\"Actual Values\")\n",
    "plt.ylabel(\"Residuals\")\n",
    "plt.title(\"Residual Plot\",fontweight=\"bold\")"
   ]
  },
  {
   "cell_type": "markdown",
   "id": "2ca440a5",
   "metadata": {},
   "source": [
    "- As it can be seen from the above results. The Dummy Regressor always predict the r2_ score as 0, since it is always predicting a constant (mean) without having an insight of the output. ( In general, best r2_score is 1 and Constant r2_score is 0).\n",
    "- The predicted values does not change as it always predicts the same value. "
   ]
  },
  {
   "cell_type": "markdown",
   "id": "110b169d",
   "metadata": {},
   "source": [
    "[Back to Contents](#Top)"
   ]
  },
  {
   "cell_type": "markdown",
   "id": "fdee58f3",
   "metadata": {},
   "source": [
    "---\n",
    "## 1.4.2 Linear Regression <a class=\"anchor\" id=\"1.4.2\"></a>"
   ]
  },
  {
   "cell_type": "code",
   "execution_count": 33,
   "id": "30c9ef97",
   "metadata": {},
   "outputs": [
    {
     "name": "stdout",
     "output_type": "stream",
     "text": [
      "Training Set:\n",
      "R2 score = 0.25530389841669077\n",
      "----------------------------------------\n",
      "Test Set:\n",
      "R2 score = 0.2868344453579962\n"
     ]
    }
   ],
   "source": [
    "lr = LinearRegression()\n",
    "lr.fit(x_train.reshape(-1,1),y_train)\n",
    "\n",
    "pred_lr = lr.predict(x_train.reshape(-1,1))\n",
    "pred_lr_test = lr.predict(x_test.reshape(-1,1))\n",
    "                    \n",
    "print(\"Training Set:\")\n",
    "print(f'R2 score = {r2_score(y_train,pred_lr)}')\n",
    "\n",
    "print(\"----------------------------------------\")\n",
    "\n",
    "print(\"Test Set:\")\n",
    "print(f'R2 score = {r2_score(y_test,pred_lr_test)}')"
   ]
  },
  {
   "cell_type": "code",
   "execution_count": 34,
   "id": "a8480b85",
   "metadata": {},
   "outputs": [
    {
     "data": {
      "image/png": "[encoded data removed]",
      "text/plain": [
       "<Figure size 432x432 with 1 Axes>"
      ]
     },
     "metadata": {},
     "output_type": "display_data"
    },
    {
     "data": {
      "image/png": "[encoded data removed]",
      "text/plain": [
       "<Figure size 432x432 with 1 Axes>"
      ]
     },
     "metadata": {},
     "output_type": "display_data"
    }
   ],
   "source": [
    "# Regression Plot (Linear)\n",
    "plt.figure()\n",
    "plt.scatter(y_train,pred_lr,color=\"Black\") \n",
    "x = np.linspace(0,700,100)\n",
    "y=x\n",
    "plt.plot(x, y,color='red')\n",
    "plt.ylim(0, 50)\n",
    "plt.xlim(0, 50)\n",
    "plt.ylabel(\"Predicted Values\")\n",
    "plt.xlabel(\"Actual Values\")\n",
    "plt.title(\"Actual Values vs Predicted Values (Train)\",fontweight=\"bold\")\n",
    "plt.show()\n",
    "\n",
    "plt.figure()\n",
    "plt.scatter(y_test,pred_lr_test,color=\"Black\") \n",
    "x = np.linspace(0,700,100)\n",
    "y=x\n",
    "plt.plot(x, y,color='red')\n",
    "plt.ylim(0, 50)\n",
    "plt.xlim(0, 50)\n",
    "plt.ylabel(\"Predicted Values\")\n",
    "plt.xlabel(\"Actual Values\")\n",
    "plt.title(\"Actual Values vs Predicted Values (Test)\",fontweight=\"bold\")\n",
    "plt.show()"
   ]
  },
  {
   "cell_type": "markdown",
   "id": "7c88d16a",
   "metadata": {},
   "source": [
    "> From the above score and plots, the model is performing poorly on the data. So, onto the next approach."
   ]
  },
  {
   "cell_type": "markdown",
   "id": "d4290899",
   "metadata": {},
   "source": [
    "[Back to Contents](#Top)"
   ]
  },
  {
   "cell_type": "markdown",
   "id": "e3fb5d24",
   "metadata": {},
   "source": [
    "---"
   ]
  },
  {
   "cell_type": "markdown",
   "id": "687365b2",
   "metadata": {},
   "source": [
    "# 2. Approach - II   <a class=\"anchor\" id=\"2\"></a>\n",
    "> Solving a Regression problem with additional features generated. "
   ]
  },
  {
   "cell_type": "markdown",
   "id": "29052600",
   "metadata": {},
   "source": [
    "## 2.1 Feature Generation <a class=\"anchor\" id=\"2.1\"></a>"
   ]
  },
  {
   "cell_type": "code",
   "execution_count": 35,
   "id": "c18d21e0",
   "metadata": {},
   "outputs": [
    {
     "data": {
      "text/html": [
       "<div>\n",
       "<style scoped>\n",
       "    .dataframe tbody tr th:only-of-type {\n",
       "        vertical-align: middle;\n",
       "    }\n",
       "\n",
       "    .dataframe tbody tr th {\n",
       "        vertical-align: top;\n",
       "    }\n",
       "\n",
       "    .dataframe thead th {\n",
       "        text-align: right;\n",
       "    }\n",
       "</style>\n",
       "<table border=\"1\" class=\"dataframe\">\n",
       "  <thead>\n",
       "    <tr style=\"text-align: right;\">\n",
       "      <th></th>\n",
       "      <th>Date</th>\n",
       "      <th>TPH</th>\n",
       "      <th>Hits</th>\n",
       "    </tr>\n",
       "  </thead>\n",
       "  <tbody>\n",
       "    <tr>\n",
       "      <th>0</th>\n",
       "      <td>2022-05-01</td>\n",
       "      <td>750</td>\n",
       "      <td>4</td>\n",
       "    </tr>\n",
       "    <tr>\n",
       "      <th>1</th>\n",
       "      <td>2022-05-02</td>\n",
       "      <td>750</td>\n",
       "      <td>8</td>\n",
       "    </tr>\n",
       "    <tr>\n",
       "      <th>2</th>\n",
       "      <td>2022-05-03</td>\n",
       "      <td>750</td>\n",
       "      <td>0</td>\n",
       "    </tr>\n",
       "    <tr>\n",
       "      <th>3</th>\n",
       "      <td>2022-05-04</td>\n",
       "      <td>750</td>\n",
       "      <td>6</td>\n",
       "    </tr>\n",
       "    <tr>\n",
       "      <th>4</th>\n",
       "      <td>2022-05-05</td>\n",
       "      <td>750</td>\n",
       "      <td>2</td>\n",
       "    </tr>\n",
       "  </tbody>\n",
       "</table>\n",
       "</div>"
      ],
      "text/plain": [
       "        Date  TPH  Hits\n",
       "0 2022-05-01  750     4\n",
       "1 2022-05-02  750     8\n",
       "2 2022-05-03  750     0\n",
       "3 2022-05-04  750     6\n",
       "4 2022-05-05  750     2"
      ]
     },
     "execution_count": 35,
     "metadata": {},
     "output_type": "execute_result"
    }
   ],
   "source": [
    "df2 = pd.read_excel(\"1.xlsx\")\n",
    "df2.head()"
   ]
  },
  {
   "cell_type": "code",
   "execution_count": 36,
   "id": "6cfcb274",
   "metadata": {},
   "outputs": [
    {
     "data": {
      "text/plain": [
       "Date    datetime64[ns]\n",
       "TPH              int64\n",
       "Hits             int64\n",
       "dtype: object"
      ]
     },
     "execution_count": 36,
     "metadata": {},
     "output_type": "execute_result"
    }
   ],
   "source": [
    "df2.dtypes"
   ]
  },
  {
   "cell_type": "code",
   "execution_count": 37,
   "id": "b83e97e7",
   "metadata": {},
   "outputs": [],
   "source": [
    "# date -> month, day\n",
    "df2['Day'] = df2['Date'].dt.day\n",
    "df2['Month'] = df2['Date'].dt.month"
   ]
  },
  {
   "cell_type": "code",
   "execution_count": 38,
   "id": "21214182",
   "metadata": {},
   "outputs": [],
   "source": [
    "# season feature for UK (Northern Hemisphere)\n",
    "\n",
    "def get_season(month):\n",
    "    if month in [12, 1, 2]:\n",
    "        return 'Winter'\n",
    "    elif month in [3, 4, 5]:\n",
    "        return 'Spring'\n",
    "    elif month in [6, 7, 8]:\n",
    "        return 'Summer'\n",
    "    else:\n",
    "        return 'Autumn'\n",
    "    \n",
    "df2['Season'] = df2['Month'].apply(get_season)"
   ]
  },
  {
   "cell_type": "code",
   "execution_count": 39,
   "id": "8bb6476b",
   "metadata": {},
   "outputs": [],
   "source": [
    "# Holidays\n",
    "\n",
    "import holidays\n",
    "\n",
    "uk_holidays = holidays.UnitedKingdom(years=2022)\n",
    "\n",
    "\n",
    "df2['holidays'] = df2.Date.apply(lambda date: uk_holidays.get(date))\n",
    "df2.holidays = df2.holidays.fillna('No holiday') \n"
   ]
  },
  {
   "cell_type": "code",
   "execution_count": 40,
   "id": "4937fafd",
   "metadata": {},
   "outputs": [],
   "source": [
    "holiday = []\n",
    "for row in df2['holidays']:\n",
    "    if row == \"No holiday\" :    \n",
    "        holiday.append(0)\n",
    "    else:          \n",
    "        holiday.append(1)\n",
    "            \n",
    "df2['Holiday'] = holiday\n"
   ]
  },
  {
   "cell_type": "code",
   "execution_count": 41,
   "id": "8a158051",
   "metadata": {},
   "outputs": [
    {
     "data": {
      "text/plain": [
       "array([6, 0, 1, 2, 3, 4, 5])"
      ]
     },
     "execution_count": 41,
     "metadata": {},
     "output_type": "execute_result"
    }
   ],
   "source": [
    "# Weekday / Weekend\n",
    "df2['Weekday'] = df2.Date.dt.weekday\n",
    "\n",
    "df2[\"Weekday\"].unique() # starts from Sunday"
   ]
  },
  {
   "cell_type": "code",
   "execution_count": 42,
   "id": "383509d4",
   "metadata": {},
   "outputs": [],
   "source": [
    "week = []\n",
    "for row in df2['Weekday']:\n",
    "    if row <5 :    \n",
    "        week.append(\"Weekday\")\n",
    "    elif row >=5:          \n",
    "        week.append(\"Weekend\")\n",
    "            \n",
    "df2['Week'] = week"
   ]
  },
  {
   "cell_type": "code",
   "execution_count": 43,
   "id": "f7d63f46",
   "metadata": {},
   "outputs": [],
   "source": [
    "# removing features that are not useful anymore\n",
    "del df2[\"Weekday\"]\n",
    "del df2[\"holidays\"]"
   ]
  },
  {
   "cell_type": "code",
   "execution_count": 44,
   "id": "cf20f837",
   "metadata": {},
   "outputs": [
    {
     "data": {
      "text/html": [
       "<div>\n",
       "<style scoped>\n",
       "    .dataframe tbody tr th:only-of-type {\n",
       "        vertical-align: middle;\n",
       "    }\n",
       "\n",
       "    .dataframe tbody tr th {\n",
       "        vertical-align: top;\n",
       "    }\n",
       "\n",
       "    .dataframe thead th {\n",
       "        text-align: right;\n",
       "    }\n",
       "</style>\n",
       "<table border=\"1\" class=\"dataframe\">\n",
       "  <thead>\n",
       "    <tr style=\"text-align: right;\">\n",
       "      <th></th>\n",
       "      <th>Date</th>\n",
       "      <th>TPH</th>\n",
       "      <th>Hits</th>\n",
       "      <th>Day</th>\n",
       "      <th>Month</th>\n",
       "      <th>Season</th>\n",
       "      <th>Holiday</th>\n",
       "      <th>Week</th>\n",
       "    </tr>\n",
       "  </thead>\n",
       "  <tbody>\n",
       "    <tr>\n",
       "      <th>0</th>\n",
       "      <td>2022-05-01</td>\n",
       "      <td>750</td>\n",
       "      <td>4</td>\n",
       "      <td>1</td>\n",
       "      <td>5</td>\n",
       "      <td>Spring</td>\n",
       "      <td>0</td>\n",
       "      <td>Weekend</td>\n",
       "    </tr>\n",
       "    <tr>\n",
       "      <th>1</th>\n",
       "      <td>2022-05-02</td>\n",
       "      <td>750</td>\n",
       "      <td>8</td>\n",
       "      <td>2</td>\n",
       "      <td>5</td>\n",
       "      <td>Spring</td>\n",
       "      <td>1</td>\n",
       "      <td>Weekday</td>\n",
       "    </tr>\n",
       "    <tr>\n",
       "      <th>2</th>\n",
       "      <td>2022-05-03</td>\n",
       "      <td>750</td>\n",
       "      <td>0</td>\n",
       "      <td>3</td>\n",
       "      <td>5</td>\n",
       "      <td>Spring</td>\n",
       "      <td>0</td>\n",
       "      <td>Weekday</td>\n",
       "    </tr>\n",
       "    <tr>\n",
       "      <th>3</th>\n",
       "      <td>2022-05-04</td>\n",
       "      <td>750</td>\n",
       "      <td>6</td>\n",
       "      <td>4</td>\n",
       "      <td>5</td>\n",
       "      <td>Spring</td>\n",
       "      <td>0</td>\n",
       "      <td>Weekday</td>\n",
       "    </tr>\n",
       "    <tr>\n",
       "      <th>4</th>\n",
       "      <td>2022-05-05</td>\n",
       "      <td>750</td>\n",
       "      <td>2</td>\n",
       "      <td>5</td>\n",
       "      <td>5</td>\n",
       "      <td>Spring</td>\n",
       "      <td>0</td>\n",
       "      <td>Weekday</td>\n",
       "    </tr>\n",
       "  </tbody>\n",
       "</table>\n",
       "</div>"
      ],
      "text/plain": [
       "        Date  TPH  Hits  Day  Month  Season  Holiday     Week\n",
       "0 2022-05-01  750     4    1      5  Spring        0  Weekend\n",
       "1 2022-05-02  750     8    2      5  Spring        1  Weekday\n",
       "2 2022-05-03  750     0    3      5  Spring        0  Weekday\n",
       "3 2022-05-04  750     6    4      5  Spring        0  Weekday\n",
       "4 2022-05-05  750     2    5      5  Spring        0  Weekday"
      ]
     },
     "execution_count": 44,
     "metadata": {},
     "output_type": "execute_result"
    }
   ],
   "source": [
    "df2.head()"
   ]
  },
  {
   "cell_type": "markdown",
   "id": "362fbaa1",
   "metadata": {},
   "source": [
    "[Back to Contents](#Top)"
   ]
  },
  {
   "cell_type": "markdown",
   "id": "246936d4",
   "metadata": {},
   "source": [
    "---\n",
    "## 2.2 Data Analysis / Visualisation <a class=\"anchor\" id=\"2.2\"></a>"
   ]
  },
  {
   "cell_type": "code",
   "execution_count": 45,
   "id": "4376d8db",
   "metadata": {},
   "outputs": [
    {
     "data": {
      "image/png": "[encoded data removed]",
      "text/plain": [
       "<Figure size 432x432 with 1 Axes>"
      ]
     },
     "metadata": {},
     "output_type": "display_data"
    }
   ],
   "source": [
    "# Time series plot\n",
    "\n",
    "plt.plot(df2['Date'], df2['Hits'])\n",
    "plt.xlabel('Date')\n",
    "plt.ylabel('Hits')\n",
    "plt.title('Time Series Plot of Hits vs Date')\n",
    "plt.gcf().autofmt_xdate()"
   ]
  },
  {
   "cell_type": "code",
   "execution_count": 46,
   "id": "aa450c2c",
   "metadata": {},
   "outputs": [
    {
     "data": {
      "text/plain": [
       "Text(0.5, 1.0, 'The Count of Holiday Feature')"
      ]
     },
     "execution_count": 46,
     "metadata": {},
     "output_type": "execute_result"
    },
    {
     "data": {
      "image/png": "[encoded data removed]",
      "text/plain": [
       "<Figure size 432x432 with 1 Axes>"
      ]
     },
     "metadata": {},
     "output_type": "display_data"
    },
    {
     "data": {
      "image/png": "[encoded data removed]",
      "text/plain": [
       "<Figure size 432x432 with 1 Axes>"
      ]
     },
     "metadata": {},
     "output_type": "display_data"
    }
   ],
   "source": [
    "# Discrete Variables \n",
    "plt.figure(figsize=(6,6))\n",
    "sns.countplot(x = \"Season\", data = df2,linewidth=2,edgecolor=\".2\")\n",
    "plt.title(\"The Count of Different Seasons\",fontweight=\"bold\")\n",
    "\n",
    "plt.figure(figsize=(6,6))\n",
    "sns.countplot(x = \"Holiday\", data = df2,linewidth=2,edgecolor=\".2\")\n",
    "plt.title(\"The Count of Holiday Feature\",fontweight=\"bold\")"
   ]
  },
  {
   "cell_type": "markdown",
   "id": "5f5ee166",
   "metadata": {},
   "source": [
    "**Observations**\n",
    "> - Summer and Autumn have the highest counts in the data followed by Spring and Winter.\n",
    "> - There are very few holidays in the data as the data set does not contain the whole year. "
   ]
  },
  {
   "cell_type": "code",
   "execution_count": 47,
   "id": "3b4f5298",
   "metadata": {},
   "outputs": [
    {
     "data": {
      "text/plain": [
       "Text(0.5, 1.0, 'Week Vs Hits')"
      ]
     },
     "execution_count": 47,
     "metadata": {},
     "output_type": "execute_result"
    },
    {
     "data": {
      "image/png": "[encoded data removed]",
      "text/plain": [
       "<Figure size 432x432 with 1 Axes>"
      ]
     },
     "metadata": {},
     "output_type": "display_data"
    },
    {
     "data": {
      "image/png": "[encoded data removed]",
      "text/plain": [
       "<Figure size 432x432 with 1 Axes>"
      ]
     },
     "metadata": {},
     "output_type": "display_data"
    },
    {
     "data": {
      "image/png": "[encoded data removed]",
      "text/plain": [
       "<Figure size 432x432 with 1 Axes>"
      ]
     },
     "metadata": {},
     "output_type": "display_data"
    }
   ],
   "source": [
    "# Bivariate analysis with target feature\n",
    "plt.figure(figsize=(6,6))\n",
    "sns.barplot(x = \"Season\",y=\"Hits\" ,data = df2,linewidth=2,edgecolor=\".2\")\n",
    "plt.title(\"Season Vs Hits\",fontweight=\"bold\")\n",
    "\n",
    "plt.figure(figsize=(6,6))\n",
    "sns.barplot(x = \"Holiday\",y=\"Hits\" ,data = df2,linewidth=2,edgecolor=\".2\")\n",
    "plt.title(\"Holiday Vs Hits\",fontweight=\"bold\")\n",
    "\n",
    "\n",
    "plt.figure(figsize=(6,6))\n",
    "sns.barplot(x = \"Week\",y=\"Hits\" ,data = df2,linewidth=2,edgecolor=\".2\")\n",
    "plt.title(\"Week Vs Hits\",fontweight=\"bold\")"
   ]
  },
  {
   "cell_type": "markdown",
   "id": "6c972013",
   "metadata": {},
   "source": [
    "**Observations**\n",
    "> - Although Spring season has low amount of records it has higher average hits compared to the autumn season. \n",
    "> - Even though the number of holidays in the data are less compared to the non-holidays, the average number of hits are higher in the holidays than the non-holidays. \n",
    "> - The weekday/weekend have the same amount of average hits with weekend being slightely higher than the weekdays."
   ]
  },
  {
   "cell_type": "code",
   "execution_count": 48,
   "id": "f3fc6702",
   "metadata": {},
   "outputs": [
    {
     "data": {
      "text/plain": [
       "Text(0.5, 1.0, 'Week Vs Hits')"
      ]
     },
     "execution_count": 48,
     "metadata": {},
     "output_type": "execute_result"
    },
    {
     "data": {
      "image/png": "[encoded data removed]",
      "text/plain": [
       "<Figure size 432x432 with 1 Axes>"
      ]
     },
     "metadata": {},
     "output_type": "display_data"
    },
    {
     "data": {
      "image/png": "[encoded data removed]",
      "text/plain": [
       "<Figure size 432x432 with 1 Axes>"
      ]
     },
     "metadata": {},
     "output_type": "display_data"
    },
    {
     "data": {
      "image/png": "[encoded data removed]",
      "text/plain": [
       "<Figure size 432x432 with 1 Axes>"
      ]
     },
     "metadata": {},
     "output_type": "display_data"
    }
   ],
   "source": [
    "# Bivariate analysis with target feature\n",
    "plt.figure(figsize=(6,6))\n",
    "sns.boxplot(x = \"Season\",y=\"Hits\" ,data = df2,linewidth=2)\n",
    "plt.title(\"Season Vs Hits\",fontweight=\"bold\")\n",
    "\n",
    "plt.figure(figsize=(6,6))\n",
    "sns.boxplot(x = \"Holiday\",y=\"Hits\" ,data = df2,linewidth=2)\n",
    "plt.title(\"Holiday Vs Hits\",fontweight=\"bold\")\n",
    "\n",
    "\n",
    "plt.figure(figsize=(6,6))\n",
    "sns.boxplot(x = \"Week\",y=\"Hits\" ,data = df2,linewidth=2)\n",
    "plt.title(\"Week Vs Hits\",fontweight=\"bold\")"
   ]
  },
  {
   "cell_type": "markdown",
   "id": "76b71409",
   "metadata": {},
   "source": [
    "> **Observations**\n",
    "> - The box plots also show the similar observations as the barplots but here the distribution of hits is considered rather than the average hits. \n",
    "> - One important observation to be made is in the barplot the weekend was higher than the weekdays. But, from the boxplots it is evident that weekdays have higher hits distribution. This could be because of the outliers. "
   ]
  },
  {
   "cell_type": "markdown",
   "id": "420b03fb",
   "metadata": {},
   "source": [
    "[Back to Contents](#Top)"
   ]
  },
  {
   "cell_type": "markdown",
   "id": "8c357583",
   "metadata": {},
   "source": [
    "---\n",
    "## 2.3 Data Pre-processing <a class=\"anchor\" id=\"2.3\"></a>"
   ]
  },
  {
   "cell_type": "code",
   "execution_count": 49,
   "id": "f7dae6ec",
   "metadata": {},
   "outputs": [
    {
     "data": {
      "text/html": [
       "<div>\n",
       "<style scoped>\n",
       "    .dataframe tbody tr th:only-of-type {\n",
       "        vertical-align: middle;\n",
       "    }\n",
       "\n",
       "    .dataframe tbody tr th {\n",
       "        vertical-align: top;\n",
       "    }\n",
       "\n",
       "    .dataframe thead th {\n",
       "        text-align: right;\n",
       "    }\n",
       "</style>\n",
       "<table border=\"1\" class=\"dataframe\">\n",
       "  <thead>\n",
       "    <tr style=\"text-align: right;\">\n",
       "      <th></th>\n",
       "      <th>Date</th>\n",
       "      <th>TPH</th>\n",
       "      <th>Hits</th>\n",
       "      <th>Day</th>\n",
       "      <th>Month</th>\n",
       "      <th>Season</th>\n",
       "      <th>Holiday</th>\n",
       "      <th>Week</th>\n",
       "    </tr>\n",
       "  </thead>\n",
       "  <tbody>\n",
       "    <tr>\n",
       "      <th>0</th>\n",
       "      <td>2022-05-01</td>\n",
       "      <td>750</td>\n",
       "      <td>4</td>\n",
       "      <td>1</td>\n",
       "      <td>5</td>\n",
       "      <td>Spring</td>\n",
       "      <td>0</td>\n",
       "      <td>Weekend</td>\n",
       "    </tr>\n",
       "    <tr>\n",
       "      <th>1</th>\n",
       "      <td>2022-05-02</td>\n",
       "      <td>750</td>\n",
       "      <td>8</td>\n",
       "      <td>2</td>\n",
       "      <td>5</td>\n",
       "      <td>Spring</td>\n",
       "      <td>1</td>\n",
       "      <td>Weekday</td>\n",
       "    </tr>\n",
       "    <tr>\n",
       "      <th>2</th>\n",
       "      <td>2022-05-03</td>\n",
       "      <td>750</td>\n",
       "      <td>0</td>\n",
       "      <td>3</td>\n",
       "      <td>5</td>\n",
       "      <td>Spring</td>\n",
       "      <td>0</td>\n",
       "      <td>Weekday</td>\n",
       "    </tr>\n",
       "    <tr>\n",
       "      <th>3</th>\n",
       "      <td>2022-05-04</td>\n",
       "      <td>750</td>\n",
       "      <td>6</td>\n",
       "      <td>4</td>\n",
       "      <td>5</td>\n",
       "      <td>Spring</td>\n",
       "      <td>0</td>\n",
       "      <td>Weekday</td>\n",
       "    </tr>\n",
       "    <tr>\n",
       "      <th>4</th>\n",
       "      <td>2022-05-05</td>\n",
       "      <td>750</td>\n",
       "      <td>2</td>\n",
       "      <td>5</td>\n",
       "      <td>5</td>\n",
       "      <td>Spring</td>\n",
       "      <td>0</td>\n",
       "      <td>Weekday</td>\n",
       "    </tr>\n",
       "  </tbody>\n",
       "</table>\n",
       "</div>"
      ],
      "text/plain": [
       "        Date  TPH  Hits  Day  Month  Season  Holiday     Week\n",
       "0 2022-05-01  750     4    1      5  Spring        0  Weekend\n",
       "1 2022-05-02  750     8    2      5  Spring        1  Weekday\n",
       "2 2022-05-03  750     0    3      5  Spring        0  Weekday\n",
       "3 2022-05-04  750     6    4      5  Spring        0  Weekday\n",
       "4 2022-05-05  750     2    5      5  Spring        0  Weekday"
      ]
     },
     "execution_count": 49,
     "metadata": {},
     "output_type": "execute_result"
    }
   ],
   "source": [
    "df2.head()"
   ]
  },
  {
   "cell_type": "code",
   "execution_count": 50,
   "id": "9f123100",
   "metadata": {},
   "outputs": [],
   "source": [
    "# One hot encoding                  \n",
    "\n",
    "# instantiated the one hot encoder \n",
    "encoder = OneHotEncoder()\n",
    "\n",
    "# performed one-hot encoding on season column \n",
    "encoder_df2 = pd.DataFrame(encoder.fit_transform(df2[['Season']]).toarray())\n",
    "\n",
    "# merged one-hot encoded columns back with original DataFrame\n",
    "final_df2 = df2.join(encoder_df2)\n",
    "\n",
    "# renamed the one hot encoded columns \n",
    "final_df2 = final_df2.rename(columns={0: \"Winter\", 1: \"Spring\", 2: \"Summer\", 3: \"Autumn\"})\n",
    "final_df2.head()\n",
    "\n",
    "# deleted the existing seasons \n",
    "del final_df2[\"Season\"]\n",
    "\n",
    "# replaced Week and functioning day column with binary digits (since there are only two values)\n",
    "final_df2['Week'] = final_df2['Week'].replace(['Weekday'], 0)\n",
    "final_df2['Week'] = final_df2['Week'].replace(['Weekend'], 1)\n",
    "\n",
    "del final_df2[\"Date\"]"
   ]
  },
  {
   "cell_type": "code",
   "execution_count": 51,
   "id": "25efb5f8",
   "metadata": {},
   "outputs": [
    {
     "data": {
      "text/plain": [
       "TPH        False\n",
       "Hits       False\n",
       "Day        False\n",
       "Month      False\n",
       "Holiday    False\n",
       "Week       False\n",
       "Winter     False\n",
       "Spring     False\n",
       "Summer     False\n",
       "Autumn     False\n",
       "dtype: bool"
      ]
     },
     "execution_count": 51,
     "metadata": {},
     "output_type": "execute_result"
    }
   ],
   "source": [
    "final_df2.isna().any()"
   ]
  },
  {
   "cell_type": "code",
   "execution_count": 52,
   "id": "0bcc6ac5",
   "metadata": {
    "scrolled": true
   },
   "outputs": [
    {
     "data": {
      "text/html": [
       "<div>\n",
       "<style scoped>\n",
       "    .dataframe tbody tr th:only-of-type {\n",
       "        vertical-align: middle;\n",
       "    }\n",
       "\n",
       "    .dataframe tbody tr th {\n",
       "        vertical-align: top;\n",
       "    }\n",
       "\n",
       "    .dataframe thead th {\n",
       "        text-align: right;\n",
       "    }\n",
       "</style>\n",
       "<table border=\"1\" class=\"dataframe\">\n",
       "  <thead>\n",
       "    <tr style=\"text-align: right;\">\n",
       "      <th></th>\n",
       "      <th>TPH</th>\n",
       "      <th>Hits</th>\n",
       "      <th>Day</th>\n",
       "      <th>Month</th>\n",
       "      <th>Holiday</th>\n",
       "      <th>Week</th>\n",
       "      <th>Winter</th>\n",
       "      <th>Spring</th>\n",
       "      <th>Summer</th>\n",
       "      <th>Autumn</th>\n",
       "    </tr>\n",
       "  </thead>\n",
       "  <tbody>\n",
       "    <tr>\n",
       "      <th>0</th>\n",
       "      <td>750</td>\n",
       "      <td>0</td>\n",
       "      <td>1</td>\n",
       "      <td>5</td>\n",
       "      <td>0</td>\n",
       "      <td>1</td>\n",
       "      <td>0.0</td>\n",
       "      <td>1.0</td>\n",
       "      <td>0.0</td>\n",
       "      <td>0.0</td>\n",
       "    </tr>\n",
       "    <tr>\n",
       "      <th>1</th>\n",
       "      <td>750</td>\n",
       "      <td>1</td>\n",
       "      <td>2</td>\n",
       "      <td>5</td>\n",
       "      <td>1</td>\n",
       "      <td>0</td>\n",
       "      <td>0.0</td>\n",
       "      <td>1.0</td>\n",
       "      <td>0.0</td>\n",
       "      <td>0.0</td>\n",
       "    </tr>\n",
       "    <tr>\n",
       "      <th>2</th>\n",
       "      <td>750</td>\n",
       "      <td>0</td>\n",
       "      <td>3</td>\n",
       "      <td>5</td>\n",
       "      <td>0</td>\n",
       "      <td>0</td>\n",
       "      <td>0.0</td>\n",
       "      <td>1.0</td>\n",
       "      <td>0.0</td>\n",
       "      <td>0.0</td>\n",
       "    </tr>\n",
       "    <tr>\n",
       "      <th>3</th>\n",
       "      <td>750</td>\n",
       "      <td>1</td>\n",
       "      <td>4</td>\n",
       "      <td>5</td>\n",
       "      <td>0</td>\n",
       "      <td>0</td>\n",
       "      <td>0.0</td>\n",
       "      <td>1.0</td>\n",
       "      <td>0.0</td>\n",
       "      <td>0.0</td>\n",
       "    </tr>\n",
       "    <tr>\n",
       "      <th>4</th>\n",
       "      <td>750</td>\n",
       "      <td>0</td>\n",
       "      <td>5</td>\n",
       "      <td>5</td>\n",
       "      <td>0</td>\n",
       "      <td>0</td>\n",
       "      <td>0.0</td>\n",
       "      <td>1.0</td>\n",
       "      <td>0.0</td>\n",
       "      <td>0.0</td>\n",
       "    </tr>\n",
       "  </tbody>\n",
       "</table>\n",
       "</div>"
      ],
      "text/plain": [
       "   TPH  Hits  Day  Month  Holiday  Week  Winter  Spring  Summer  Autumn\n",
       "0  750     0    1      5        0     1     0.0     1.0     0.0     0.0\n",
       "1  750     1    2      5        1     0     0.0     1.0     0.0     0.0\n",
       "2  750     0    3      5        0     0     0.0     1.0     0.0     0.0\n",
       "3  750     1    4      5        0     0     0.0     1.0     0.0     0.0\n",
       "4  750     0    5      5        0     0     0.0     1.0     0.0     0.0"
      ]
     },
     "execution_count": 52,
     "metadata": {},
     "output_type": "execute_result"
    }
   ],
   "source": [
    "hits_ = []\n",
    "for row in final_df2['Hits']:\n",
    "    if row > 4:    \n",
    "        hits_.append(1)\n",
    "    elif row <= 4:          \n",
    "        hits_.append(0)\n",
    "            \n",
    "final_df2['Hits'] = hits_\n",
    "\n",
    "final_df2.head()"
   ]
  },
  {
   "cell_type": "markdown",
   "id": "68bdc1f3",
   "metadata": {},
   "source": [
    "[Back to Contents](#Top)"
   ]
  },
  {
   "cell_type": "markdown",
   "id": "c0ebc8a5",
   "metadata": {},
   "source": [
    "---\n",
    "## 2.4 Model Evaluation <a class=\"anchor\" id=\"2.4\"></a>"
   ]
  },
  {
   "cell_type": "code",
   "execution_count": 53,
   "id": "778439aa",
   "metadata": {},
   "outputs": [
    {
     "name": "stdout",
     "output_type": "stream",
     "text": [
      "--------------------------------------------------\n",
      "Split ratio - 80:20\n",
      "Train: (212, 9)\n",
      "Test: (24, 9)\n"
     ]
    }
   ],
   "source": [
    "# X  = Other features, Y = Target feature\n",
    "X = final_df2.loc[:, final_df2.columns != \"Hits\"]\n",
    "Y = final_df2[\"Hits\"]\n",
    "\n",
    "x_train, x_test, y_train, y_test = train_test_split(X, Y, test_size=0.1, random_state=42) # train - test split\n",
    "\n",
    "print(\"--------------------------------------------------\")\n",
    "\n",
    "print(\"Split ratio - 80:20\")\n",
    "print(\"Train:\",x_train.shape)\n",
    "print(\"Test:\",x_test.shape)"
   ]
  },
  {
   "cell_type": "markdown",
   "id": "1f930e55",
   "metadata": {},
   "source": [
    "---\n",
    "## 2.4.1 Baseline Model (Dummy Regressor) Hits <a class=\"anchor\" id=\"2.4.1\"></a>\n",
    "\n",
    "- Regressor that makes predictions using simple rules."
   ]
  },
  {
   "cell_type": "code",
   "execution_count": 54,
   "id": "4fe8e47e",
   "metadata": {},
   "outputs": [
    {
     "name": "stdout",
     "output_type": "stream",
     "text": [
      "Training Set:\n",
      "R2 score = 0.0\n",
      "--------------------------------\n",
      "Validation Set:\n",
      "R2 score = -0.010768956924172235\n",
      "Root Mean Square Error (RMSE) =  0.5026850298457703\n"
     ]
    }
   ],
   "source": [
    "dummy_regr = DummyRegressor() # instantiating the regressor\n",
    "dummy_regr.fit(x_train, y_train) # fitting the train to the model \n",
    "\n",
    "pred_tr = dummy_regr.predict(x_train)\n",
    "pred = dummy_regr.predict(x_test) # predicting on validation \n",
    "\n",
    "#scores\n",
    "print(\"Training Set:\")\n",
    "print(f'R2 score = {r2_score(y_train,pred_tr)}') \n",
    "\n",
    "print(\"--------------------------------\")\n",
    "\n",
    "print(\"Validation Set:\")\n",
    "print(f'R2 score = {r2_score(y_test,pred)}')\n",
    "print(\"Root Mean Square Error (RMSE) = \",np.sqrt(mean_squared_error(y_test,pred)))"
   ]
  },
  {
   "cell_type": "code",
   "execution_count": 55,
   "id": "15103c2d",
   "metadata": {},
   "outputs": [
    {
     "data": {
      "text/plain": [
       "Text(0.5, 1.0, 'Residual Plot')"
      ]
     },
     "execution_count": 55,
     "metadata": {},
     "output_type": "execute_result"
    },
    {
     "data": {
      "image/png": "[encoded data removed]",
      "text/plain": [
       "<Figure size 432x432 with 1 Axes>"
      ]
     },
     "metadata": {},
     "output_type": "display_data"
    }
   ],
   "source": [
    "residuals = y_test - pred # residuals \n",
    "\n",
    "sns.scatterplot(x=y_test,y=residuals)\n",
    "y = np.linspace(0,3500,100)\n",
    "x = np.linspace(0,0)\n",
    "plt.axhline(y=0, color='r', linestyle='-')\n",
    "sns.set(rc = {'figure.figsize':(6,6)})\n",
    "plt.xlabel(\"Actual Values\")\n",
    "plt.ylabel(\"Residuals\")\n",
    "plt.title(\"Residual Plot\",fontweight=\"bold\")"
   ]
  },
  {
   "cell_type": "markdown",
   "id": "ef7e322a",
   "metadata": {},
   "source": [
    "---\n",
    "## 2.4.2 Linear Regression <a class=\"anchor\" id=\"2.4.2\"></a>"
   ]
  },
  {
   "cell_type": "code",
   "execution_count": 56,
   "id": "bf4d1e2b",
   "metadata": {},
   "outputs": [
    {
     "name": "stdout",
     "output_type": "stream",
     "text": [
      "Training Set:\n",
      "R2 score = 0.47369964383025454\n",
      "--------------------------------\n",
      "Validation Set:\n",
      "R2 score = 0.43247966192524245\n",
      "Root Mean Square Error (RMSE) =  0.37666972869967846\n"
     ]
    }
   ],
   "source": [
    "lr = LinearRegression() # instantiating the Knn regressor \n",
    "lr.fit(x_train,y_train) # Fitting train set to the model\n",
    "\n",
    "lr_pred = lr.predict(x_test) # prediction on validation\n",
    "lr_pred_tr = lr.predict(x_train) # prediction on train\n",
    "\n",
    "# Scores\n",
    "print(\"Training Set:\")\n",
    "print(f'R2 score = {r2_score(y_train,lr_pred_tr)}') \n",
    "\n",
    "print(\"--------------------------------\")\n",
    "\n",
    "print(\"Validation Set:\")\n",
    "print(f'R2 score = {r2_score(y_test,lr_pred)}')\n",
    "print(\"Root Mean Square Error (RMSE) = \",np.sqrt(mean_squared_error(y_test,lr_pred)))"
   ]
  },
  {
   "cell_type": "markdown",
   "id": "ddcd7f59",
   "metadata": {},
   "source": [
    "[Back to Contents](#Top)"
   ]
  },
  {
   "cell_type": "markdown",
   "id": "5c8b1261",
   "metadata": {},
   "source": [
    "---\n",
    "## 2.4.3 Decision Tree <a class=\"anchor\" id=\"2.4.3\"></a>"
   ]
  },
  {
   "cell_type": "code",
   "execution_count": 57,
   "id": "f0ac16bd",
   "metadata": {},
   "outputs": [
    {
     "name": "stdout",
     "output_type": "stream",
     "text": [
      "Training Set:\n",
      "R2 score = 1.0\n",
      "--------------------------------\n",
      "Validation Set:\n",
      "R2 score = 0.0\n",
      "Root Mean Square Error (RMSE) =  0.5\n"
     ]
    }
   ],
   "source": [
    "regressor = DecisionTreeRegressor(random_state=42) # Instantiating the regressor \n",
    "regressor.fit(x_train, y_train) # Fitting the train set to the model\n",
    "\n",
    "dc_pred_tr = regressor.predict(x_train) # Predictions on train\n",
    "dc_pred = regressor.predict(x_test) # Predictions on Validation\n",
    "\n",
    "# Scores\n",
    "print(\"Training Set:\")\n",
    "print(f'R2 score = {r2_score(y_train,dc_pred_tr)}') \n",
    "\n",
    "print(\"--------------------------------\")\n",
    "\n",
    "print(\"Validation Set:\")\n",
    "print(f'R2 score = {r2_score(y_test,dc_pred)}')\n",
    "print(\"Root Mean Square Error (RMSE) = \",np.sqrt(mean_squared_error(y_test,dc_pred)))"
   ]
  },
  {
   "cell_type": "code",
   "execution_count": 58,
   "id": "999bd1b5",
   "metadata": {},
   "outputs": [
    {
     "name": "stdout",
     "output_type": "stream",
     "text": [
      "Best Hyperparameter value: DecisionTreeRegressor(max_depth=87, min_samples_leaf=5, min_samples_split=11,\n",
      "                      random_state=42)\n",
      "------------------------------------------------------------\n",
      "Time taken for randomsearchCV: 1.8175621032714844 seconds\n"
     ]
    }
   ],
   "source": [
    "start = time.time()\n",
    "\n",
    "# Creating the parameter grid\n",
    "max_depth = [int(x) for x in np.linspace(1,100,50)]\n",
    "min_samples_split = [int(x) for x in np.linspace(1,100,100)]\n",
    "min_samples_leaf = [int(x) for x in np.linspace(1,100,100)]\n",
    "\n",
    "param_grid = {\n",
    "    'max_depth': max_depth,\n",
    "    'min_samples_split' : min_samples_split,\n",
    "    'min_samples_leaf' : min_samples_leaf\n",
    "}\n",
    "# Instantiating the grid search model\n",
    "random_search_dt = RandomizedSearchCV(estimator = regressor, param_distributions = param_grid, n_iter = 100, \n",
    "                               cv = 5,random_state=42, n_jobs = -1)\n",
    "random_search_dt.fit(x_train, y_train)\n",
    "\n",
    "print(f'Best Hyperparameter value: {random_search_dt.best_estimator_}')\n",
    "print(\"------------------------------------------------------------\")\n",
    "print(f'Time taken for randomsearchCV: {time.time() - start} seconds')"
   ]
  },
  {
   "cell_type": "code",
   "execution_count": 59,
   "id": "d8cda6b8",
   "metadata": {},
   "outputs": [
    {
     "name": "stdout",
     "output_type": "stream",
     "text": [
      "Best Hyperparameter value: DecisionTreeRegressor(max_depth=10, min_samples_leaf=5, min_samples_split=5,\n",
      "                      random_state=42)\n",
      "------------------------------------------------------------\n",
      "Time taken for GridSearchCV: 1.2793657779693604 seconds\n"
     ]
    }
   ],
   "source": [
    "start = time.time()\n",
    "\n",
    "# Creating the parameter grid based on the results of random search \n",
    "param_grid = {\n",
    "    'max_depth': [1,5,10,25,35,45,55,65,75,85],\n",
    "    'min_samples_split' : [5,10,15,20,25,30,35],\n",
    "    'min_samples_leaf' : [2,3,4,5,6,7,8]\n",
    "}\n",
    "# Instantiating the grid search model\n",
    "grid_search_dt = GridSearchCV(estimator = regressor, param_grid = param_grid, \n",
    "                          cv = 5,n_jobs=-1)\n",
    "grid_search_dt.fit(x_train, y_train)\n",
    "\n",
    "print(f'Best Hyperparameter value: {grid_search_dt.best_estimator_}')\n",
    "print(\"------------------------------------------------------------\")\n",
    "print(f'Time taken for GridSearchCV: {time.time() - start} seconds')"
   ]
  },
  {
   "cell_type": "code",
   "execution_count": 60,
   "id": "7aad4a95",
   "metadata": {},
   "outputs": [
    {
     "data": {
      "text/html": [
       "<div>\n",
       "<style scoped>\n",
       "    .dataframe tbody tr th:only-of-type {\n",
       "        vertical-align: middle;\n",
       "    }\n",
       "\n",
       "    .dataframe tbody tr th {\n",
       "        vertical-align: top;\n",
       "    }\n",
       "\n",
       "    .dataframe thead th {\n",
       "        text-align: right;\n",
       "    }\n",
       "</style>\n",
       "<table border=\"1\" class=\"dataframe\">\n",
       "  <thead>\n",
       "    <tr style=\"text-align: right;\">\n",
       "      <th></th>\n",
       "      <th>mean_fit_time</th>\n",
       "      <th>std_fit_time</th>\n",
       "      <th>mean_score_time</th>\n",
       "      <th>std_score_time</th>\n",
       "      <th>param_max_depth</th>\n",
       "      <th>param_min_samples_leaf</th>\n",
       "      <th>param_min_samples_split</th>\n",
       "      <th>params</th>\n",
       "      <th>split0_test_score</th>\n",
       "      <th>split1_test_score</th>\n",
       "      <th>split2_test_score</th>\n",
       "      <th>split3_test_score</th>\n",
       "      <th>split4_test_score</th>\n",
       "      <th>mean_test_score</th>\n",
       "      <th>std_test_score</th>\n",
       "      <th>rank_test_score</th>\n",
       "    </tr>\n",
       "  </thead>\n",
       "  <tbody>\n",
       "    <tr>\n",
       "      <th>0</th>\n",
       "      <td>0.002684</td>\n",
       "      <td>0.001510</td>\n",
       "      <td>0.000927</td>\n",
       "      <td>0.000040</td>\n",
       "      <td>1</td>\n",
       "      <td>2</td>\n",
       "      <td>5</td>\n",
       "      <td>{'max_depth': 1, 'min_samples_leaf': 2, 'min_s...</td>\n",
       "      <td>0.55304</td>\n",
       "      <td>0.090232</td>\n",
       "      <td>0.173382</td>\n",
       "      <td>0.475362</td>\n",
       "      <td>0.50547</td>\n",
       "      <td>0.359497</td>\n",
       "      <td>0.189385</td>\n",
       "      <td>433</td>\n",
       "    </tr>\n",
       "    <tr>\n",
       "      <th>1</th>\n",
       "      <td>0.002358</td>\n",
       "      <td>0.001022</td>\n",
       "      <td>0.002338</td>\n",
       "      <td>0.001185</td>\n",
       "      <td>1</td>\n",
       "      <td>2</td>\n",
       "      <td>10</td>\n",
       "      <td>{'max_depth': 1, 'min_samples_leaf': 2, 'min_s...</td>\n",
       "      <td>0.55304</td>\n",
       "      <td>0.090232</td>\n",
       "      <td>0.173382</td>\n",
       "      <td>0.475362</td>\n",
       "      <td>0.50547</td>\n",
       "      <td>0.359497</td>\n",
       "      <td>0.189385</td>\n",
       "      <td>433</td>\n",
       "    </tr>\n",
       "    <tr>\n",
       "      <th>2</th>\n",
       "      <td>0.001800</td>\n",
       "      <td>0.000325</td>\n",
       "      <td>0.001498</td>\n",
       "      <td>0.000598</td>\n",
       "      <td>1</td>\n",
       "      <td>2</td>\n",
       "      <td>15</td>\n",
       "      <td>{'max_depth': 1, 'min_samples_leaf': 2, 'min_s...</td>\n",
       "      <td>0.55304</td>\n",
       "      <td>0.090232</td>\n",
       "      <td>0.173382</td>\n",
       "      <td>0.475362</td>\n",
       "      <td>0.50547</td>\n",
       "      <td>0.359497</td>\n",
       "      <td>0.189385</td>\n",
       "      <td>433</td>\n",
       "    </tr>\n",
       "    <tr>\n",
       "      <th>3</th>\n",
       "      <td>0.002598</td>\n",
       "      <td>0.001102</td>\n",
       "      <td>0.002133</td>\n",
       "      <td>0.001347</td>\n",
       "      <td>1</td>\n",
       "      <td>2</td>\n",
       "      <td>20</td>\n",
       "      <td>{'max_depth': 1, 'min_samples_leaf': 2, 'min_s...</td>\n",
       "      <td>0.55304</td>\n",
       "      <td>0.090232</td>\n",
       "      <td>0.173382</td>\n",
       "      <td>0.475362</td>\n",
       "      <td>0.50547</td>\n",
       "      <td>0.359497</td>\n",
       "      <td>0.189385</td>\n",
       "      <td>433</td>\n",
       "    </tr>\n",
       "    <tr>\n",
       "      <th>4</th>\n",
       "      <td>0.002672</td>\n",
       "      <td>0.001110</td>\n",
       "      <td>0.000959</td>\n",
       "      <td>0.000136</td>\n",
       "      <td>1</td>\n",
       "      <td>2</td>\n",
       "      <td>25</td>\n",
       "      <td>{'max_depth': 1, 'min_samples_leaf': 2, 'min_s...</td>\n",
       "      <td>0.55304</td>\n",
       "      <td>0.090232</td>\n",
       "      <td>0.173382</td>\n",
       "      <td>0.475362</td>\n",
       "      <td>0.50547</td>\n",
       "      <td>0.359497</td>\n",
       "      <td>0.189385</td>\n",
       "      <td>433</td>\n",
       "    </tr>\n",
       "  </tbody>\n",
       "</table>\n",
       "</div>"
      ],
      "text/plain": [
       "   mean_fit_time  std_fit_time  mean_score_time  std_score_time  \\\n",
       "0       0.002684      0.001510         0.000927        0.000040   \n",
       "1       0.002358      0.001022         0.002338        0.001185   \n",
       "2       0.001800      0.000325         0.001498        0.000598   \n",
       "3       0.002598      0.001102         0.002133        0.001347   \n",
       "4       0.002672      0.001110         0.000959        0.000136   \n",
       "\n",
       "  param_max_depth param_min_samples_leaf param_min_samples_split  \\\n",
       "0               1                      2                       5   \n",
       "1               1                      2                      10   \n",
       "2               1                      2                      15   \n",
       "3               1                      2                      20   \n",
       "4               1                      2                      25   \n",
       "\n",
       "                                              params  split0_test_score  \\\n",
       "0  {'max_depth': 1, 'min_samples_leaf': 2, 'min_s...            0.55304   \n",
       "1  {'max_depth': 1, 'min_samples_leaf': 2, 'min_s...            0.55304   \n",
       "2  {'max_depth': 1, 'min_samples_leaf': 2, 'min_s...            0.55304   \n",
       "3  {'max_depth': 1, 'min_samples_leaf': 2, 'min_s...            0.55304   \n",
       "4  {'max_depth': 1, 'min_samples_leaf': 2, 'min_s...            0.55304   \n",
       "\n",
       "   split1_test_score  split2_test_score  split3_test_score  split4_test_score  \\\n",
       "0           0.090232           0.173382           0.475362            0.50547   \n",
       "1           0.090232           0.173382           0.475362            0.50547   \n",
       "2           0.090232           0.173382           0.475362            0.50547   \n",
       "3           0.090232           0.173382           0.475362            0.50547   \n",
       "4           0.090232           0.173382           0.475362            0.50547   \n",
       "\n",
       "   mean_test_score  std_test_score  rank_test_score  \n",
       "0         0.359497        0.189385              433  \n",
       "1         0.359497        0.189385              433  \n",
       "2         0.359497        0.189385              433  \n",
       "3         0.359497        0.189385              433  \n",
       "4         0.359497        0.189385              433  "
      ]
     },
     "execution_count": 60,
     "metadata": {},
     "output_type": "execute_result"
    }
   ],
   "source": [
    "df = pd.DataFrame(data=grid_search_dt.cv_results_) # creating a dataframe to plot the hyperparameters\n",
    "df.head() # displaying the head of the created dataframe"
   ]
  },
  {
   "cell_type": "code",
   "execution_count": 61,
   "id": "f76f7eec",
   "metadata": {},
   "outputs": [
    {
     "data": {
      "text/plain": [
       "Text(0.5, 1.0, 'Max Depth')"
      ]
     },
     "execution_count": 61,
     "metadata": {},
     "output_type": "execute_result"
    },
    {
     "data": {
      "image/png": "[encoded data removed]",
      "text/plain": [
       "<Figure size 432x432 with 1 Axes>"
      ]
     },
     "metadata": {},
     "output_type": "display_data"
    },
    {
     "data": {
      "image/png": "[encoded data removed]",
      "text/plain": [
       "<Figure size 432x432 with 1 Axes>"
      ]
     },
     "metadata": {},
     "output_type": "display_data"
    },
    {
     "data": {
      "image/png": "[encoded data removed]",
      "text/plain": [
       "<Figure size 432x432 with 1 Axes>"
      ]
     },
     "metadata": {},
     "output_type": "display_data"
    }
   ],
   "source": [
    "# Hyperparameter plots\n",
    "fig,ax = plt.subplots()\n",
    "sns.pointplot(data=df[['mean_test_score',\n",
    "                           'param_min_samples_split',]],\n",
    "             y='mean_test_score',x='param_min_samples_split',ax=ax)\n",
    "sns.set(rc = {'figure.figsize':(6,6)})\n",
    "plt.title(\"Max Leaf Nodes\",fontweight=\"bold\")\n",
    "\n",
    "fig,ax = plt.subplots()\n",
    "sns.pointplot(data=df[['mean_test_score',\n",
    "                           'param_min_samples_leaf',]],\n",
    "             y='mean_test_score',x='param_min_samples_leaf',ax=ax)\n",
    "sns.set(rc = {'figure.figsize':(6,6)})\n",
    "plt.title(\"Min Samples Leaf\",fontweight=\"bold\")\n",
    "\n",
    "fig,ax = plt.subplots()\n",
    "sns.pointplot(data=df[['mean_test_score',\n",
    "                           'param_max_depth',]],\n",
    "             y='mean_test_score',x='param_max_depth',ax=ax)\n",
    "sns.set(rc = {'figure.figsize':(6,6)})\n",
    "plt.title(\"Max Depth\",fontweight=\"bold\")\n"
   ]
  },
  {
   "cell_type": "code",
   "execution_count": 62,
   "id": "8cc342e0",
   "metadata": {},
   "outputs": [
    {
     "name": "stdout",
     "output_type": "stream",
     "text": [
      "Training Set:\n",
      "R2 score = 0.6949327735292647\n",
      "--------------------------------\n",
      "Validation Set:\n",
      "R2 score = 0.3259143518518517\n",
      "Root Mean Square Error (RMSE) =  0.41051359543508065\n"
     ]
    }
   ],
   "source": [
    "# Fitting the values of the obtained optimal hyperparameter\n",
    "regressor = DecisionTreeRegressor(max_depth=10, min_samples_leaf=5, min_samples_split=5,\n",
    "                      random_state=42)  # Instantiating the regressor \n",
    "regressor.fit(x_train, y_train) # Fitting the train set to the model\n",
    "\n",
    "dc_pred_tr = regressor.predict(x_train) # Predictions on train\n",
    "dc_pred = regressor.predict(x_test) # Predictions on Validation\n",
    "\n",
    "# Scores\n",
    "print(\"Training Set:\")\n",
    "print(f'R2 score = {r2_score(y_train,dc_pred_tr)}') \n",
    "\n",
    "print(\"--------------------------------\")\n",
    "\n",
    "print(\"Validation Set:\")\n",
    "print(f'R2 score = {r2_score(y_test,dc_pred)}')\n",
    "print(\"Root Mean Square Error (RMSE) = \",np.sqrt(mean_squared_error(y_test,dc_pred)))"
   ]
  },
  {
   "cell_type": "markdown",
   "id": "91f62235",
   "metadata": {},
   "source": [
    "> **Observations**\n",
    "> - After evaluating he performance of the 3 models:\n",
    ">> - Dummy regressor fails to fit the data\n",
    ">> - Linear regression has a poor fit on the data\n",
    ">> - Decision Tree overfits the data. To decrease the overfitting, hyperparameter tuning is performed, yet, the performance is poor on the test set. \n",
    "\n",
    "From the above, the models performed poorly on the data. So, onto the next approach.\n"
   ]
  },
  {
   "cell_type": "markdown",
   "id": "f5523db2",
   "metadata": {},
   "source": [
    "[Back to Contents](#Top)"
   ]
  },
  {
   "cell_type": "markdown",
   "id": "7f8c34b4",
   "metadata": {},
   "source": [
    "---\n",
    "## 3. Approach III <a class=\"anchor\" id=\"3\"></a>\n",
    "Classification Problem with feature generation. I Will be using the previously generated features and dataset."
   ]
  },
  {
   "cell_type": "code",
   "execution_count": 63,
   "id": "aa74131f",
   "metadata": {},
   "outputs": [
    {
     "data": {
      "text/html": [
       "<div>\n",
       "<style scoped>\n",
       "    .dataframe tbody tr th:only-of-type {\n",
       "        vertical-align: middle;\n",
       "    }\n",
       "\n",
       "    .dataframe tbody tr th {\n",
       "        vertical-align: top;\n",
       "    }\n",
       "\n",
       "    .dataframe thead th {\n",
       "        text-align: right;\n",
       "    }\n",
       "</style>\n",
       "<table border=\"1\" class=\"dataframe\">\n",
       "  <thead>\n",
       "    <tr style=\"text-align: right;\">\n",
       "      <th></th>\n",
       "      <th>TPH</th>\n",
       "      <th>Hits</th>\n",
       "      <th>Day</th>\n",
       "      <th>Month</th>\n",
       "      <th>Holiday</th>\n",
       "      <th>Week</th>\n",
       "      <th>Winter</th>\n",
       "      <th>Spring</th>\n",
       "      <th>Summer</th>\n",
       "      <th>Autumn</th>\n",
       "    </tr>\n",
       "  </thead>\n",
       "  <tbody>\n",
       "    <tr>\n",
       "      <th>0</th>\n",
       "      <td>750</td>\n",
       "      <td>0</td>\n",
       "      <td>1</td>\n",
       "      <td>5</td>\n",
       "      <td>0</td>\n",
       "      <td>1</td>\n",
       "      <td>0.0</td>\n",
       "      <td>1.0</td>\n",
       "      <td>0.0</td>\n",
       "      <td>0.0</td>\n",
       "    </tr>\n",
       "    <tr>\n",
       "      <th>1</th>\n",
       "      <td>750</td>\n",
       "      <td>1</td>\n",
       "      <td>2</td>\n",
       "      <td>5</td>\n",
       "      <td>1</td>\n",
       "      <td>0</td>\n",
       "      <td>0.0</td>\n",
       "      <td>1.0</td>\n",
       "      <td>0.0</td>\n",
       "      <td>0.0</td>\n",
       "    </tr>\n",
       "    <tr>\n",
       "      <th>2</th>\n",
       "      <td>750</td>\n",
       "      <td>0</td>\n",
       "      <td>3</td>\n",
       "      <td>5</td>\n",
       "      <td>0</td>\n",
       "      <td>0</td>\n",
       "      <td>0.0</td>\n",
       "      <td>1.0</td>\n",
       "      <td>0.0</td>\n",
       "      <td>0.0</td>\n",
       "    </tr>\n",
       "    <tr>\n",
       "      <th>3</th>\n",
       "      <td>750</td>\n",
       "      <td>1</td>\n",
       "      <td>4</td>\n",
       "      <td>5</td>\n",
       "      <td>0</td>\n",
       "      <td>0</td>\n",
       "      <td>0.0</td>\n",
       "      <td>1.0</td>\n",
       "      <td>0.0</td>\n",
       "      <td>0.0</td>\n",
       "    </tr>\n",
       "    <tr>\n",
       "      <th>4</th>\n",
       "      <td>750</td>\n",
       "      <td>0</td>\n",
       "      <td>5</td>\n",
       "      <td>5</td>\n",
       "      <td>0</td>\n",
       "      <td>0</td>\n",
       "      <td>0.0</td>\n",
       "      <td>1.0</td>\n",
       "      <td>0.0</td>\n",
       "      <td>0.0</td>\n",
       "    </tr>\n",
       "  </tbody>\n",
       "</table>\n",
       "</div>"
      ],
      "text/plain": [
       "   TPH  Hits  Day  Month  Holiday  Week  Winter  Spring  Summer  Autumn\n",
       "0  750     0    1      5        0     1     0.0     1.0     0.0     0.0\n",
       "1  750     1    2      5        1     0     0.0     1.0     0.0     0.0\n",
       "2  750     0    3      5        0     0     0.0     1.0     0.0     0.0\n",
       "3  750     1    4      5        0     0     0.0     1.0     0.0     0.0\n",
       "4  750     0    5      5        0     0     0.0     1.0     0.0     0.0"
      ]
     },
     "execution_count": 63,
     "metadata": {},
     "output_type": "execute_result"
    }
   ],
   "source": [
    "final_df2.head()"
   ]
  },
  {
   "cell_type": "markdown",
   "id": "975404bf",
   "metadata": {},
   "source": [
    "---\n",
    "## 3.1 Model Evaluation <a class=\"anchor\" id=\"3.1\"></a>\n",
    "\n",
    "\n",
    "> I will be considering 1 Classification model:\n",
    "> - Logistic Regression\n",
    "\n",
    "I will evaluate the model and test it against unseen data if it performs well."
   ]
  },
  {
   "cell_type": "code",
   "execution_count": 64,
   "id": "ecf07f83",
   "metadata": {},
   "outputs": [
    {
     "name": "stdout",
     "output_type": "stream",
     "text": [
      "Split ratio - 80:20\n",
      "--------------------------------------------------\n",
      "Train: (212, 9)\n",
      "Test: (24, 9)\n"
     ]
    }
   ],
   "source": [
    "# X  = Other features, Y = Target feature\n",
    "X = final_df2.loc[:, final_df2.columns != \"Hits\"]\n",
    "Y = final_df2[\"Hits\"]\n",
    "\n",
    "x_train, x_test, y_train, y_test = train_test_split(X, Y, test_size=0.1, random_state=42) # train - test split\n",
    "\n",
    "\n",
    "print(\"Split ratio - 80:20\")\n",
    "print(\"--------------------------------------------------\")\n",
    "print(\"Train:\",x_train.shape)\n",
    "print(\"Test:\",x_test.shape)"
   ]
  },
  {
   "cell_type": "markdown",
   "id": "d2d98077",
   "metadata": {},
   "source": [
    "[Back to Contents](#Top)"
   ]
  },
  {
   "cell_type": "markdown",
   "id": "a2a6544b",
   "metadata": {},
   "source": [
    "---\n",
    "## 3.1.1 Logistic Regression <a class=\"anchor\" id=\"3.1.1\"></a>"
   ]
  },
  {
   "cell_type": "code",
   "execution_count": 65,
   "id": "3ae4b6ac",
   "metadata": {},
   "outputs": [],
   "source": [
    "model = LogisticRegression(random_state=42)\n",
    "model.fit(x_train,y_train)\n",
    "\n",
    "pred = model.predict(x_train)\n",
    "pred_test = model.predict(x_test)"
   ]
  },
  {
   "cell_type": "code",
   "execution_count": 66,
   "id": "4f0af564",
   "metadata": {},
   "outputs": [
    {
     "name": "stdout",
     "output_type": "stream",
     "text": [
      "              precision    recall  f1-score   support\n",
      "\n",
      "           0       0.77      0.83      0.80        12\n",
      "           1       0.82      0.75      0.78        12\n",
      "\n",
      "    accuracy                           0.79        24\n",
      "   macro avg       0.79      0.79      0.79        24\n",
      "weighted avg       0.79      0.79      0.79        24\n",
      "\n"
     ]
    }
   ],
   "source": [
    "print(classification_report(y_test,pred_test))"
   ]
  },
  {
   "cell_type": "code",
   "execution_count": 67,
   "id": "c3df95a6",
   "metadata": {
    "scrolled": false
   },
   "outputs": [
    {
     "data": {
      "image/png": "[encoded data removed]",
      "text/plain": [
       "<Figure size 576x576 with 1 Axes>"
      ]
     },
     "metadata": {},
     "output_type": "display_data"
    }
   ],
   "source": [
    "cm = confusion_matrix(y_test, pred_test)\n",
    "\n",
    "fig, ax = plt.subplots(figsize=(8, 8))\n",
    "ax.imshow(cm)\n",
    "ax.grid(False)\n",
    "ax.xaxis.set(ticks=(0, 1), ticklabels=('Predicted 0s', 'Predicted 1s'))\n",
    "ax.yaxis.set(ticks=(0, 1), ticklabels=('Actual 0s', 'Actual 1s'))\n",
    "ax.set_ylim(1.5, -0.5)\n",
    "for i in range(2):\n",
    "    for j in range(2):\n",
    "        ax.text(j, i, cm[i, j], ha='center', va='center', color='red')\n",
    "plt.show()"
   ]
  },
  {
   "cell_type": "markdown",
   "id": "186827fe",
   "metadata": {},
   "source": [
    "[Back to Contents](#Top)"
   ]
  },
  {
   "cell_type": "markdown",
   "id": "8f7deff2",
   "metadata": {},
   "source": [
    "> **Observations**\n",
    "> - the classification approach works well on the data:\n",
    ">> - Logistic Regression fits the data well, produces high accuracy on test data. \n",
    "\n",
    "This appraoch is good and now can be tested on unseen data for optimum TPH."
   ]
  },
  {
   "cell_type": "markdown",
   "id": "b12a8fac",
   "metadata": {},
   "source": [
    "---\n",
    "## 4. Unseen Data (Real - Test set) <a class=\"anchor\" id=\"4\"></a>\n",
    "\n",
    "This data is generated in excel. The data contains 2 columns from the origianl data given, i.e, date and TPH. However, the changes are:\n",
    "> - Data is for a year and not 6 months\n",
    "> - Data is for the year 2023 so that the model doesn't overfit \n",
    "> - Each day has 3 values of TPH:\n",
    ">> - 650\n",
    ">> - 700\n",
    ">> - 750\n",
    "> - This data will be passed to the Logistic Regression model to make prediction whether there is a hit or not.\n",
    "> - there will be 3 TPH results:\n",
    ">> - Optimum TPH per Day Logic:\n",
    ">>> - If all the 3 values of TPH have 1 (Hits > 4) then assign a random TPH\n",
    ">>> - If atleast 1 TPH value has 0 (Hits <= 4) then make it the optimal TPH and remove the others\n",
    ">>> - If all the 3 TPH values have 0 (Hits <= 4) then retain all the TPH values to be optimal. \n",
    ">> - Optimum TPH per Month Logic:\n",
    ">>> - Groupby Month and find the most repeated (MODE) TPH value from the above logic and make it the optimal TPH value for that month. \n",
    ">> - Optimal TPH per Year Logic:\n",
    ">>> - The most repeated TPH value (MODE) in the whole year is the optimum TPH"
   ]
  },
  {
   "cell_type": "code",
   "execution_count": 68,
   "id": "df37f7d0",
   "metadata": {},
   "outputs": [],
   "source": [
    "dft = pd.read_excel(\"Test data.xlsx\")"
   ]
  },
  {
   "cell_type": "code",
   "execution_count": 69,
   "id": "22407837",
   "metadata": {},
   "outputs": [
    {
     "data": {
      "text/html": [
       "<div>\n",
       "<style scoped>\n",
       "    .dataframe tbody tr th:only-of-type {\n",
       "        vertical-align: middle;\n",
       "    }\n",
       "\n",
       "    .dataframe tbody tr th {\n",
       "        vertical-align: top;\n",
       "    }\n",
       "\n",
       "    .dataframe thead th {\n",
       "        text-align: right;\n",
       "    }\n",
       "</style>\n",
       "<table border=\"1\" class=\"dataframe\">\n",
       "  <thead>\n",
       "    <tr style=\"text-align: right;\">\n",
       "      <th></th>\n",
       "      <th>Date</th>\n",
       "      <th>TPH</th>\n",
       "    </tr>\n",
       "  </thead>\n",
       "  <tbody>\n",
       "    <tr>\n",
       "      <th>0</th>\n",
       "      <td>2023-01-01</td>\n",
       "      <td>650</td>\n",
       "    </tr>\n",
       "    <tr>\n",
       "      <th>1</th>\n",
       "      <td>2023-01-01</td>\n",
       "      <td>700</td>\n",
       "    </tr>\n",
       "    <tr>\n",
       "      <th>2</th>\n",
       "      <td>2023-01-01</td>\n",
       "      <td>750</td>\n",
       "    </tr>\n",
       "    <tr>\n",
       "      <th>3</th>\n",
       "      <td>2023-01-02</td>\n",
       "      <td>650</td>\n",
       "    </tr>\n",
       "    <tr>\n",
       "      <th>4</th>\n",
       "      <td>2023-01-02</td>\n",
       "      <td>700</td>\n",
       "    </tr>\n",
       "  </tbody>\n",
       "</table>\n",
       "</div>"
      ],
      "text/plain": [
       "        Date  TPH\n",
       "0 2023-01-01  650\n",
       "1 2023-01-01  700\n",
       "2 2023-01-01  750\n",
       "3 2023-01-02  650\n",
       "4 2023-01-02  700"
      ]
     },
     "execution_count": 69,
     "metadata": {},
     "output_type": "execute_result"
    }
   ],
   "source": [
    "dft.head()"
   ]
  },
  {
   "cell_type": "code",
   "execution_count": 70,
   "id": "2f9e49f8",
   "metadata": {},
   "outputs": [],
   "source": [
    "# extracting all features from the date to make the model predict \n",
    "\n",
    "# date -> month, day\n",
    "dft['Day'] = dft['Date'].dt.day\n",
    "dft['Month'] = dft['Date'].dt.month\n"
   ]
  },
  {
   "cell_type": "code",
   "execution_count": 71,
   "id": "c5ef50fa",
   "metadata": {},
   "outputs": [],
   "source": [
    "# season feature for UK (Northern Hemisphere)\n",
    "\n",
    "def get_season(month):\n",
    "    if month in [12, 1, 2]:\n",
    "        return 'Winter'\n",
    "    elif month in [3, 4, 5]:\n",
    "        return 'Spring'\n",
    "    elif month in [6, 7, 8]:\n",
    "        return 'Summer'\n",
    "    else:\n",
    "        return 'Autumn'\n",
    "    \n",
    "dft['Season'] = dft['Month'].apply(get_season)"
   ]
  },
  {
   "cell_type": "code",
   "execution_count": 72,
   "id": "b41a6efc",
   "metadata": {},
   "outputs": [],
   "source": [
    "# Holidays\n",
    "\n",
    "import holidays\n",
    "\n",
    "uk_holidays = holidays.UnitedKingdom(years=2022)\n",
    "\n",
    "\n",
    "dft['holidays'] = dft.Date.apply(lambda date: uk_holidays.get(date))\n",
    "dft.holidays = dft.holidays.fillna('No holiday') "
   ]
  },
  {
   "cell_type": "code",
   "execution_count": 73,
   "id": "d605854a",
   "metadata": {},
   "outputs": [],
   "source": [
    "holiday = []\n",
    "for row in dft['holidays']:\n",
    "    if row == \"No holiday\" :    \n",
    "        holiday.append(0)\n",
    "    else:          \n",
    "        holiday.append(1)\n",
    "            \n",
    "dft['Holiday'] = holiday"
   ]
  },
  {
   "cell_type": "code",
   "execution_count": 74,
   "id": "747d3327",
   "metadata": {},
   "outputs": [
    {
     "data": {
      "text/plain": [
       "array([6, 0, 1, 2, 3, 4, 5])"
      ]
     },
     "execution_count": 74,
     "metadata": {},
     "output_type": "execute_result"
    }
   ],
   "source": [
    "# Weekday / Weekend\n",
    "dft['Weekday'] = dft.Date.dt.weekday\n",
    "\n",
    "dft[\"Weekday\"].unique() # starts from Sunday"
   ]
  },
  {
   "cell_type": "code",
   "execution_count": 75,
   "id": "fbd39d05",
   "metadata": {},
   "outputs": [],
   "source": [
    "week = []\n",
    "for row in dft['Weekday']:\n",
    "    if row <5 :    \n",
    "        week.append(\"Weekday\")\n",
    "    elif row >=5:          \n",
    "        week.append(\"Weekend\")\n",
    "            \n",
    "dft['Week'] = week"
   ]
  },
  {
   "cell_type": "code",
   "execution_count": 76,
   "id": "355db08f",
   "metadata": {},
   "outputs": [],
   "source": [
    "# One hot encoding                  \n",
    "\n",
    "\n",
    "# removing features that are not useful anymore\n",
    "del dft[\"Weekday\"]\n",
    "del dft[\"holidays\"]\n",
    "\n",
    "# instantiated the one hot encoder \n",
    "encoder = OneHotEncoder()\n",
    "\n",
    "# performed one-hot encoding on season column \n",
    "encoder_dft = pd.DataFrame(encoder.fit_transform(dft[['Season']]).toarray())\n",
    "\n",
    "# merged one-hot encoded columns back with original DataFrame\n",
    "final_dft = dft.join(encoder_dft)\n",
    "\n",
    "# renamed the one hot encoded columns \n",
    "final_dft = final_dft.rename(columns={0: \"Winter\", 1: \"Spring\", 2: \"Summer\", 3: \"Autumn\"})\n",
    "final_dft.head()\n",
    "\n",
    "# deleted the existing seasons \n",
    "del final_dft[\"Season\"]\n",
    "\n",
    "# replaced Week and functioning day column with binary digits (since there are only two values)\n",
    "final_dft['Week'] = final_dft['Week'].replace(['Weekday'], 0)\n",
    "final_dft['Week'] = final_dft['Week'].replace(['Weekend'], 1)\n",
    "\n",
    "del final_dft[\"Date\"]"
   ]
  },
  {
   "cell_type": "code",
   "execution_count": 77,
   "id": "9fdfb5f8",
   "metadata": {},
   "outputs": [
    {
     "data": {
      "text/html": [
       "<div>\n",
       "<style scoped>\n",
       "    .dataframe tbody tr th:only-of-type {\n",
       "        vertical-align: middle;\n",
       "    }\n",
       "\n",
       "    .dataframe tbody tr th {\n",
       "        vertical-align: top;\n",
       "    }\n",
       "\n",
       "    .dataframe thead th {\n",
       "        text-align: right;\n",
       "    }\n",
       "</style>\n",
       "<table border=\"1\" class=\"dataframe\">\n",
       "  <thead>\n",
       "    <tr style=\"text-align: right;\">\n",
       "      <th></th>\n",
       "      <th>TPH</th>\n",
       "      <th>Day</th>\n",
       "      <th>Month</th>\n",
       "      <th>Holiday</th>\n",
       "      <th>Week</th>\n",
       "      <th>Winter</th>\n",
       "      <th>Spring</th>\n",
       "      <th>Summer</th>\n",
       "      <th>Autumn</th>\n",
       "    </tr>\n",
       "  </thead>\n",
       "  <tbody>\n",
       "    <tr>\n",
       "      <th>0</th>\n",
       "      <td>650</td>\n",
       "      <td>1</td>\n",
       "      <td>1</td>\n",
       "      <td>1</td>\n",
       "      <td>1</td>\n",
       "      <td>0.0</td>\n",
       "      <td>0.0</td>\n",
       "      <td>0.0</td>\n",
       "      <td>1.0</td>\n",
       "    </tr>\n",
       "    <tr>\n",
       "      <th>1</th>\n",
       "      <td>700</td>\n",
       "      <td>1</td>\n",
       "      <td>1</td>\n",
       "      <td>1</td>\n",
       "      <td>1</td>\n",
       "      <td>0.0</td>\n",
       "      <td>0.0</td>\n",
       "      <td>0.0</td>\n",
       "      <td>1.0</td>\n",
       "    </tr>\n",
       "    <tr>\n",
       "      <th>2</th>\n",
       "      <td>750</td>\n",
       "      <td>1</td>\n",
       "      <td>1</td>\n",
       "      <td>1</td>\n",
       "      <td>1</td>\n",
       "      <td>0.0</td>\n",
       "      <td>0.0</td>\n",
       "      <td>0.0</td>\n",
       "      <td>1.0</td>\n",
       "    </tr>\n",
       "    <tr>\n",
       "      <th>3</th>\n",
       "      <td>650</td>\n",
       "      <td>2</td>\n",
       "      <td>1</td>\n",
       "      <td>1</td>\n",
       "      <td>0</td>\n",
       "      <td>0.0</td>\n",
       "      <td>0.0</td>\n",
       "      <td>0.0</td>\n",
       "      <td>1.0</td>\n",
       "    </tr>\n",
       "    <tr>\n",
       "      <th>4</th>\n",
       "      <td>700</td>\n",
       "      <td>2</td>\n",
       "      <td>1</td>\n",
       "      <td>1</td>\n",
       "      <td>0</td>\n",
       "      <td>0.0</td>\n",
       "      <td>0.0</td>\n",
       "      <td>0.0</td>\n",
       "      <td>1.0</td>\n",
       "    </tr>\n",
       "    <tr>\n",
       "      <th>...</th>\n",
       "      <td>...</td>\n",
       "      <td>...</td>\n",
       "      <td>...</td>\n",
       "      <td>...</td>\n",
       "      <td>...</td>\n",
       "      <td>...</td>\n",
       "      <td>...</td>\n",
       "      <td>...</td>\n",
       "      <td>...</td>\n",
       "    </tr>\n",
       "    <tr>\n",
       "      <th>1090</th>\n",
       "      <td>700</td>\n",
       "      <td>30</td>\n",
       "      <td>12</td>\n",
       "      <td>0</td>\n",
       "      <td>1</td>\n",
       "      <td>0.0</td>\n",
       "      <td>0.0</td>\n",
       "      <td>0.0</td>\n",
       "      <td>1.0</td>\n",
       "    </tr>\n",
       "    <tr>\n",
       "      <th>1091</th>\n",
       "      <td>750</td>\n",
       "      <td>30</td>\n",
       "      <td>12</td>\n",
       "      <td>0</td>\n",
       "      <td>1</td>\n",
       "      <td>0.0</td>\n",
       "      <td>0.0</td>\n",
       "      <td>0.0</td>\n",
       "      <td>1.0</td>\n",
       "    </tr>\n",
       "    <tr>\n",
       "      <th>1092</th>\n",
       "      <td>650</td>\n",
       "      <td>31</td>\n",
       "      <td>12</td>\n",
       "      <td>0</td>\n",
       "      <td>1</td>\n",
       "      <td>0.0</td>\n",
       "      <td>0.0</td>\n",
       "      <td>0.0</td>\n",
       "      <td>1.0</td>\n",
       "    </tr>\n",
       "    <tr>\n",
       "      <th>1093</th>\n",
       "      <td>700</td>\n",
       "      <td>31</td>\n",
       "      <td>12</td>\n",
       "      <td>0</td>\n",
       "      <td>1</td>\n",
       "      <td>0.0</td>\n",
       "      <td>0.0</td>\n",
       "      <td>0.0</td>\n",
       "      <td>1.0</td>\n",
       "    </tr>\n",
       "    <tr>\n",
       "      <th>1094</th>\n",
       "      <td>750</td>\n",
       "      <td>31</td>\n",
       "      <td>12</td>\n",
       "      <td>0</td>\n",
       "      <td>1</td>\n",
       "      <td>0.0</td>\n",
       "      <td>0.0</td>\n",
       "      <td>0.0</td>\n",
       "      <td>1.0</td>\n",
       "    </tr>\n",
       "  </tbody>\n",
       "</table>\n",
       "<p>1095 rows × 9 columns</p>\n",
       "</div>"
      ],
      "text/plain": [
       "      TPH  Day  Month  Holiday  Week  Winter  Spring  Summer  Autumn\n",
       "0     650    1      1        1     1     0.0     0.0     0.0     1.0\n",
       "1     700    1      1        1     1     0.0     0.0     0.0     1.0\n",
       "2     750    1      1        1     1     0.0     0.0     0.0     1.0\n",
       "3     650    2      1        1     0     0.0     0.0     0.0     1.0\n",
       "4     700    2      1        1     0     0.0     0.0     0.0     1.0\n",
       "...   ...  ...    ...      ...   ...     ...     ...     ...     ...\n",
       "1090  700   30     12        0     1     0.0     0.0     0.0     1.0\n",
       "1091  750   30     12        0     1     0.0     0.0     0.0     1.0\n",
       "1092  650   31     12        0     1     0.0     0.0     0.0     1.0\n",
       "1093  700   31     12        0     1     0.0     0.0     0.0     1.0\n",
       "1094  750   31     12        0     1     0.0     0.0     0.0     1.0\n",
       "\n",
       "[1095 rows x 9 columns]"
      ]
     },
     "execution_count": 77,
     "metadata": {},
     "output_type": "execute_result"
    }
   ],
   "source": [
    "final_dft"
   ]
  },
  {
   "cell_type": "markdown",
   "id": "eee88697",
   "metadata": {},
   "source": [
    "[Back to Contents](#Top)"
   ]
  },
  {
   "cell_type": "markdown",
   "id": "971f0fbe",
   "metadata": {},
   "source": [
    "---\n",
    "## 4.1 Model Performance on Unseen Data <a class=\"anchor\" id=\"4.1\"></a>"
   ]
  },
  {
   "cell_type": "code",
   "execution_count": 78,
   "id": "1c74f5a5",
   "metadata": {},
   "outputs": [],
   "source": [
    "x_test_final = final_dft"
   ]
  },
  {
   "cell_type": "code",
   "execution_count": 79,
   "id": "ebdd7324",
   "metadata": {},
   "outputs": [
    {
     "data": {
      "text/html": [
       "<div>\n",
       "<style scoped>\n",
       "    .dataframe tbody tr th:only-of-type {\n",
       "        vertical-align: middle;\n",
       "    }\n",
       "\n",
       "    .dataframe tbody tr th {\n",
       "        vertical-align: top;\n",
       "    }\n",
       "\n",
       "    .dataframe thead th {\n",
       "        text-align: right;\n",
       "    }\n",
       "</style>\n",
       "<table border=\"1\" class=\"dataframe\">\n",
       "  <thead>\n",
       "    <tr style=\"text-align: right;\">\n",
       "      <th></th>\n",
       "      <th>TPH</th>\n",
       "      <th>Day</th>\n",
       "      <th>Month</th>\n",
       "      <th>Holiday</th>\n",
       "      <th>Week</th>\n",
       "      <th>Winter</th>\n",
       "      <th>Spring</th>\n",
       "      <th>Summer</th>\n",
       "      <th>Autumn</th>\n",
       "    </tr>\n",
       "  </thead>\n",
       "  <tbody>\n",
       "    <tr>\n",
       "      <th>0</th>\n",
       "      <td>650</td>\n",
       "      <td>1</td>\n",
       "      <td>1</td>\n",
       "      <td>1</td>\n",
       "      <td>1</td>\n",
       "      <td>0.0</td>\n",
       "      <td>0.0</td>\n",
       "      <td>0.0</td>\n",
       "      <td>1.0</td>\n",
       "    </tr>\n",
       "    <tr>\n",
       "      <th>1</th>\n",
       "      <td>700</td>\n",
       "      <td>1</td>\n",
       "      <td>1</td>\n",
       "      <td>1</td>\n",
       "      <td>1</td>\n",
       "      <td>0.0</td>\n",
       "      <td>0.0</td>\n",
       "      <td>0.0</td>\n",
       "      <td>1.0</td>\n",
       "    </tr>\n",
       "    <tr>\n",
       "      <th>2</th>\n",
       "      <td>750</td>\n",
       "      <td>1</td>\n",
       "      <td>1</td>\n",
       "      <td>1</td>\n",
       "      <td>1</td>\n",
       "      <td>0.0</td>\n",
       "      <td>0.0</td>\n",
       "      <td>0.0</td>\n",
       "      <td>1.0</td>\n",
       "    </tr>\n",
       "    <tr>\n",
       "      <th>3</th>\n",
       "      <td>650</td>\n",
       "      <td>2</td>\n",
       "      <td>1</td>\n",
       "      <td>1</td>\n",
       "      <td>0</td>\n",
       "      <td>0.0</td>\n",
       "      <td>0.0</td>\n",
       "      <td>0.0</td>\n",
       "      <td>1.0</td>\n",
       "    </tr>\n",
       "    <tr>\n",
       "      <th>4</th>\n",
       "      <td>700</td>\n",
       "      <td>2</td>\n",
       "      <td>1</td>\n",
       "      <td>1</td>\n",
       "      <td>0</td>\n",
       "      <td>0.0</td>\n",
       "      <td>0.0</td>\n",
       "      <td>0.0</td>\n",
       "      <td>1.0</td>\n",
       "    </tr>\n",
       "  </tbody>\n",
       "</table>\n",
       "</div>"
      ],
      "text/plain": [
       "   TPH  Day  Month  Holiday  Week  Winter  Spring  Summer  Autumn\n",
       "0  650    1      1        1     1     0.0     0.0     0.0     1.0\n",
       "1  700    1      1        1     1     0.0     0.0     0.0     1.0\n",
       "2  750    1      1        1     1     0.0     0.0     0.0     1.0\n",
       "3  650    2      1        1     0     0.0     0.0     0.0     1.0\n",
       "4  700    2      1        1     0     0.0     0.0     0.0     1.0"
      ]
     },
     "execution_count": 79,
     "metadata": {},
     "output_type": "execute_result"
    }
   ],
   "source": [
    "x_test_final.head()"
   ]
  },
  {
   "cell_type": "code",
   "execution_count": 80,
   "id": "b5bfb01d",
   "metadata": {},
   "outputs": [],
   "source": [
    "model = LogisticRegression(random_state=42)\n",
    "model.fit(x_train,y_train)\n",
    "\n",
    "pred = model.predict(x_train)\n",
    "pred_test_final = model.predict(x_test_final)"
   ]
  },
  {
   "cell_type": "code",
   "execution_count": 81,
   "id": "8cf7c38f",
   "metadata": {},
   "outputs": [
    {
     "data": {
      "text/html": [
       "<div>\n",
       "<style scoped>\n",
       "    .dataframe tbody tr th:only-of-type {\n",
       "        vertical-align: middle;\n",
       "    }\n",
       "\n",
       "    .dataframe tbody tr th {\n",
       "        vertical-align: top;\n",
       "    }\n",
       "\n",
       "    .dataframe thead th {\n",
       "        text-align: right;\n",
       "    }\n",
       "</style>\n",
       "<table border=\"1\" class=\"dataframe\">\n",
       "  <thead>\n",
       "    <tr style=\"text-align: right;\">\n",
       "      <th></th>\n",
       "      <th>TPH</th>\n",
       "      <th>Day</th>\n",
       "      <th>Month</th>\n",
       "      <th>Holiday</th>\n",
       "      <th>Week</th>\n",
       "      <th>Winter</th>\n",
       "      <th>Spring</th>\n",
       "      <th>Summer</th>\n",
       "      <th>Autumn</th>\n",
       "      <th>Hits_predicted</th>\n",
       "    </tr>\n",
       "  </thead>\n",
       "  <tbody>\n",
       "    <tr>\n",
       "      <th>0</th>\n",
       "      <td>650</td>\n",
       "      <td>1</td>\n",
       "      <td>1</td>\n",
       "      <td>1</td>\n",
       "      <td>1</td>\n",
       "      <td>0.0</td>\n",
       "      <td>0.0</td>\n",
       "      <td>0.0</td>\n",
       "      <td>1.0</td>\n",
       "      <td>1</td>\n",
       "    </tr>\n",
       "    <tr>\n",
       "      <th>1</th>\n",
       "      <td>700</td>\n",
       "      <td>1</td>\n",
       "      <td>1</td>\n",
       "      <td>1</td>\n",
       "      <td>1</td>\n",
       "      <td>0.0</td>\n",
       "      <td>0.0</td>\n",
       "      <td>0.0</td>\n",
       "      <td>1.0</td>\n",
       "      <td>1</td>\n",
       "    </tr>\n",
       "    <tr>\n",
       "      <th>2</th>\n",
       "      <td>750</td>\n",
       "      <td>1</td>\n",
       "      <td>1</td>\n",
       "      <td>1</td>\n",
       "      <td>1</td>\n",
       "      <td>0.0</td>\n",
       "      <td>0.0</td>\n",
       "      <td>0.0</td>\n",
       "      <td>1.0</td>\n",
       "      <td>1</td>\n",
       "    </tr>\n",
       "    <tr>\n",
       "      <th>3</th>\n",
       "      <td>650</td>\n",
       "      <td>2</td>\n",
       "      <td>1</td>\n",
       "      <td>1</td>\n",
       "      <td>0</td>\n",
       "      <td>0.0</td>\n",
       "      <td>0.0</td>\n",
       "      <td>0.0</td>\n",
       "      <td>1.0</td>\n",
       "      <td>1</td>\n",
       "    </tr>\n",
       "    <tr>\n",
       "      <th>4</th>\n",
       "      <td>700</td>\n",
       "      <td>2</td>\n",
       "      <td>1</td>\n",
       "      <td>1</td>\n",
       "      <td>0</td>\n",
       "      <td>0.0</td>\n",
       "      <td>0.0</td>\n",
       "      <td>0.0</td>\n",
       "      <td>1.0</td>\n",
       "      <td>1</td>\n",
       "    </tr>\n",
       "  </tbody>\n",
       "</table>\n",
       "</div>"
      ],
      "text/plain": [
       "   TPH  Day  Month  Holiday  Week  Winter  Spring  Summer  Autumn  \\\n",
       "0  650    1      1        1     1     0.0     0.0     0.0     1.0   \n",
       "1  700    1      1        1     1     0.0     0.0     0.0     1.0   \n",
       "2  750    1      1        1     1     0.0     0.0     0.0     1.0   \n",
       "3  650    2      1        1     0     0.0     0.0     0.0     1.0   \n",
       "4  700    2      1        1     0     0.0     0.0     0.0     1.0   \n",
       "\n",
       "   Hits_predicted  \n",
       "0               1  \n",
       "1               1  \n",
       "2               1  \n",
       "3               1  \n",
       "4               1  "
      ]
     },
     "execution_count": 81,
     "metadata": {},
     "output_type": "execute_result"
    }
   ],
   "source": [
    "final_dft[\"Hits_predicted\"] = pred_test_final\n",
    "final_dft.head()"
   ]
  },
  {
   "cell_type": "code",
   "execution_count": 82,
   "id": "898211b1",
   "metadata": {},
   "outputs": [],
   "source": [
    "# final_dft.to_excel(\"/Users/bharathsimha/Desktop/Gatwick/final.xlsx\") \n",
    "# to add date feature in excel and commented out once it is addded"
   ]
  },
  {
   "cell_type": "markdown",
   "id": "55ee5c96",
   "metadata": {},
   "source": [
    "---\n",
    "## 5. Optimum TPH <a class=\"anchor\" id=\"5\"></a>"
   ]
  },
  {
   "cell_type": "code",
   "execution_count": 83,
   "id": "b823b5d5",
   "metadata": {},
   "outputs": [
    {
     "data": {
      "text/html": [
       "<div>\n",
       "<style scoped>\n",
       "    .dataframe tbody tr th:only-of-type {\n",
       "        vertical-align: middle;\n",
       "    }\n",
       "\n",
       "    .dataframe tbody tr th {\n",
       "        vertical-align: top;\n",
       "    }\n",
       "\n",
       "    .dataframe thead th {\n",
       "        text-align: right;\n",
       "    }\n",
       "</style>\n",
       "<table border=\"1\" class=\"dataframe\">\n",
       "  <thead>\n",
       "    <tr style=\"text-align: right;\">\n",
       "      <th></th>\n",
       "      <th>Unnamed: 0</th>\n",
       "      <th>Date</th>\n",
       "      <th>TPH</th>\n",
       "      <th>Hits_predicted</th>\n",
       "    </tr>\n",
       "  </thead>\n",
       "  <tbody>\n",
       "    <tr>\n",
       "      <th>0</th>\n",
       "      <td>0</td>\n",
       "      <td>2023-01-01</td>\n",
       "      <td>650</td>\n",
       "      <td>1</td>\n",
       "    </tr>\n",
       "    <tr>\n",
       "      <th>1</th>\n",
       "      <td>1</td>\n",
       "      <td>2023-01-01</td>\n",
       "      <td>700</td>\n",
       "      <td>1</td>\n",
       "    </tr>\n",
       "    <tr>\n",
       "      <th>2</th>\n",
       "      <td>2</td>\n",
       "      <td>2023-01-01</td>\n",
       "      <td>750</td>\n",
       "      <td>1</td>\n",
       "    </tr>\n",
       "    <tr>\n",
       "      <th>3</th>\n",
       "      <td>3</td>\n",
       "      <td>2023-01-02</td>\n",
       "      <td>650</td>\n",
       "      <td>1</td>\n",
       "    </tr>\n",
       "    <tr>\n",
       "      <th>4</th>\n",
       "      <td>4</td>\n",
       "      <td>2023-01-02</td>\n",
       "      <td>700</td>\n",
       "      <td>1</td>\n",
       "    </tr>\n",
       "  </tbody>\n",
       "</table>\n",
       "</div>"
      ],
      "text/plain": [
       "   Unnamed: 0       Date  TPH  Hits_predicted\n",
       "0           0 2023-01-01  650               1\n",
       "1           1 2023-01-01  700               1\n",
       "2           2 2023-01-01  750               1\n",
       "3           3 2023-01-02  650               1\n",
       "4           4 2023-01-02  700               1"
      ]
     },
     "execution_count": 83,
     "metadata": {},
     "output_type": "execute_result"
    }
   ],
   "source": [
    "final = pd.read_excel(\"final.xlsx\")\n",
    "final.head()"
   ]
  },
  {
   "cell_type": "code",
   "execution_count": 84,
   "id": "f9a7c38c",
   "metadata": {},
   "outputs": [
    {
     "data": {
      "text/html": [
       "<div>\n",
       "<style scoped>\n",
       "    .dataframe tbody tr th:only-of-type {\n",
       "        vertical-align: middle;\n",
       "    }\n",
       "\n",
       "    .dataframe tbody tr th {\n",
       "        vertical-align: top;\n",
       "    }\n",
       "\n",
       "    .dataframe thead th {\n",
       "        text-align: right;\n",
       "    }\n",
       "</style>\n",
       "<table border=\"1\" class=\"dataframe\">\n",
       "  <thead>\n",
       "    <tr style=\"text-align: right;\">\n",
       "      <th></th>\n",
       "      <th>Date</th>\n",
       "      <th>TPH</th>\n",
       "      <th>Hits_predicted</th>\n",
       "    </tr>\n",
       "  </thead>\n",
       "  <tbody>\n",
       "    <tr>\n",
       "      <th>0</th>\n",
       "      <td>2023-01-01</td>\n",
       "      <td>650</td>\n",
       "      <td>1</td>\n",
       "    </tr>\n",
       "    <tr>\n",
       "      <th>1</th>\n",
       "      <td>2023-01-01</td>\n",
       "      <td>700</td>\n",
       "      <td>1</td>\n",
       "    </tr>\n",
       "    <tr>\n",
       "      <th>2</th>\n",
       "      <td>2023-01-01</td>\n",
       "      <td>750</td>\n",
       "      <td>1</td>\n",
       "    </tr>\n",
       "    <tr>\n",
       "      <th>3</th>\n",
       "      <td>2023-01-02</td>\n",
       "      <td>650</td>\n",
       "      <td>1</td>\n",
       "    </tr>\n",
       "    <tr>\n",
       "      <th>4</th>\n",
       "      <td>2023-01-02</td>\n",
       "      <td>700</td>\n",
       "      <td>1</td>\n",
       "    </tr>\n",
       "  </tbody>\n",
       "</table>\n",
       "</div>"
      ],
      "text/plain": [
       "        Date  TPH  Hits_predicted\n",
       "0 2023-01-01  650               1\n",
       "1 2023-01-01  700               1\n",
       "2 2023-01-01  750               1\n",
       "3 2023-01-02  650               1\n",
       "4 2023-01-02  700               1"
      ]
     },
     "execution_count": 84,
     "metadata": {},
     "output_type": "execute_result"
    }
   ],
   "source": [
    "del final[\"Unnamed: 0\"]\n",
    "final.head()"
   ]
  },
  {
   "cell_type": "code",
   "execution_count": 85,
   "id": "d7d11b9a",
   "metadata": {},
   "outputs": [],
   "source": [
    "# Finding the Optimum Value of TPH \n",
    "# Note: Compile only once, if you compile it twice, Compile from section 5. Optimum TPH again \n",
    "\n",
    "for date, date_df in final.groupby('Date'):\n",
    "    if date_df['Hits_predicted'].sum() == 3 and 0 not in date_df['TPH'].values:\n",
    "        hit_one_df = date_df[date_df['Hits_predicted'] == 1]\n",
    "        if hit_one_df.shape[0] > 0:\n",
    "            random_index = np.random.choice(hit_one_df.index)\n",
    "            final.at[random_index, 'Hits'] = date_df.at[random_index, 'TPH']\n",
    "            \n",
    "\n",
    "#final['Hits'].fillna(0, inplace=True)\n",
    "final.loc[final['Hits_predicted'] == 0, 'Hits'] = 0\n",
    "\n",
    "final = final.dropna()\n",
    "del final[\"Hits\"]\n",
    "del final[\"Hits_predicted\"]\n",
    "final[\"Optimum TPH\"] = final[\"TPH\"]\n",
    "del final[\"TPH\"]"
   ]
  },
  {
   "cell_type": "markdown",
   "id": "14e885c3",
   "metadata": {},
   "source": [
    "[Back to Contents](#Top)"
   ]
  },
  {
   "cell_type": "markdown",
   "id": "5196951f",
   "metadata": {},
   "source": [
    "---\n",
    "## 5.1 Optimum TPH per Day <a class=\"anchor\" id=\"5.1\"></a>"
   ]
  },
  {
   "cell_type": "code",
   "execution_count": 86,
   "id": "ffce96a1",
   "metadata": {},
   "outputs": [
    {
     "data": {
      "text/html": [
       "<div>\n",
       "<style scoped>\n",
       "    .dataframe tbody tr th:only-of-type {\n",
       "        vertical-align: middle;\n",
       "    }\n",
       "\n",
       "    .dataframe tbody tr th {\n",
       "        vertical-align: top;\n",
       "    }\n",
       "\n",
       "    .dataframe thead th {\n",
       "        text-align: right;\n",
       "    }\n",
       "</style>\n",
       "<table border=\"1\" class=\"dataframe\">\n",
       "  <thead>\n",
       "    <tr style=\"text-align: right;\">\n",
       "      <th></th>\n",
       "      <th>Date</th>\n",
       "      <th>Optimum TPH</th>\n",
       "    </tr>\n",
       "  </thead>\n",
       "  <tbody>\n",
       "    <tr>\n",
       "      <th>0</th>\n",
       "      <td>2023-01-01</td>\n",
       "      <td>650</td>\n",
       "    </tr>\n",
       "    <tr>\n",
       "      <th>3</th>\n",
       "      <td>2023-01-02</td>\n",
       "      <td>650</td>\n",
       "    </tr>\n",
       "    <tr>\n",
       "      <th>6</th>\n",
       "      <td>2023-01-03</td>\n",
       "      <td>650</td>\n",
       "    </tr>\n",
       "    <tr>\n",
       "      <th>11</th>\n",
       "      <td>2023-01-04</td>\n",
       "      <td>750</td>\n",
       "    </tr>\n",
       "    <tr>\n",
       "      <th>13</th>\n",
       "      <td>2023-01-05</td>\n",
       "      <td>700</td>\n",
       "    </tr>\n",
       "    <tr>\n",
       "      <th>...</th>\n",
       "      <td>...</td>\n",
       "      <td>...</td>\n",
       "    </tr>\n",
       "    <tr>\n",
       "      <th>1090</th>\n",
       "      <td>2023-12-30</td>\n",
       "      <td>700</td>\n",
       "    </tr>\n",
       "    <tr>\n",
       "      <th>1091</th>\n",
       "      <td>2023-12-30</td>\n",
       "      <td>750</td>\n",
       "    </tr>\n",
       "    <tr>\n",
       "      <th>1092</th>\n",
       "      <td>2023-12-31</td>\n",
       "      <td>650</td>\n",
       "    </tr>\n",
       "    <tr>\n",
       "      <th>1093</th>\n",
       "      <td>2023-12-31</td>\n",
       "      <td>700</td>\n",
       "    </tr>\n",
       "    <tr>\n",
       "      <th>1094</th>\n",
       "      <td>2023-12-31</td>\n",
       "      <td>750</td>\n",
       "    </tr>\n",
       "  </tbody>\n",
       "</table>\n",
       "<p>631 rows × 2 columns</p>\n",
       "</div>"
      ],
      "text/plain": [
       "           Date  Optimum TPH\n",
       "0    2023-01-01          650\n",
       "3    2023-01-02          650\n",
       "6    2023-01-03          650\n",
       "11   2023-01-04          750\n",
       "13   2023-01-05          700\n",
       "...         ...          ...\n",
       "1090 2023-12-30          700\n",
       "1091 2023-12-30          750\n",
       "1092 2023-12-31          650\n",
       "1093 2023-12-31          700\n",
       "1094 2023-12-31          750\n",
       "\n",
       "[631 rows x 2 columns]"
      ]
     },
     "execution_count": 86,
     "metadata": {},
     "output_type": "execute_result"
    }
   ],
   "source": [
    "final # optimum TPH per day"
   ]
  },
  {
   "cell_type": "code",
   "execution_count": 87,
   "id": "f8826f2c",
   "metadata": {},
   "outputs": [
    {
     "data": {
      "text/plain": [
       "Text(0.5, 1.0, 'The Count of Optimal TPH')"
      ]
     },
     "execution_count": 87,
     "metadata": {},
     "output_type": "execute_result"
    },
    {
     "data": {
      "image/png": "[encoded data removed]",
      "text/plain": [
       "<Figure size 432x432 with 1 Axes>"
      ]
     },
     "metadata": {},
     "output_type": "display_data"
    }
   ],
   "source": [
    "# plot showing the counts of Optimum TPH \n",
    "\n",
    "plt.figure(figsize=(6,6))\n",
    "sns.countplot(x = \"Optimum TPH\", data = final,linewidth=2,edgecolor=\".2\")\n",
    "plt.title(\"The Count of Optimal TPH\",fontweight=\"bold\")"
   ]
  },
  {
   "cell_type": "markdown",
   "id": "cae8a32e",
   "metadata": {},
   "source": [
    "---\n",
    "## 5.2 Optimum TPH per Month <a class=\"anchor\" id=\"5.2\"></a>"
   ]
  },
  {
   "cell_type": "code",
   "execution_count": 88,
   "id": "e77de2af",
   "metadata": {},
   "outputs": [],
   "source": [
    "final['Month'] = final['Date'].dt.month"
   ]
  },
  {
   "cell_type": "code",
   "execution_count": 89,
   "id": "4285445f",
   "metadata": {},
   "outputs": [],
   "source": [
    "final_by_month = final.groupby([\"Month\"]).agg(pd.Series.mode)\n",
    "del final_by_month[\"Date\"]"
   ]
  },
  {
   "cell_type": "code",
   "execution_count": 90,
   "id": "690fd18d",
   "metadata": {},
   "outputs": [
    {
     "data": {
      "text/html": [
       "<div>\n",
       "<style scoped>\n",
       "    .dataframe tbody tr th:only-of-type {\n",
       "        vertical-align: middle;\n",
       "    }\n",
       "\n",
       "    .dataframe tbody tr th {\n",
       "        vertical-align: top;\n",
       "    }\n",
       "\n",
       "    .dataframe thead th {\n",
       "        text-align: right;\n",
       "    }\n",
       "</style>\n",
       "<table border=\"1\" class=\"dataframe\">\n",
       "  <thead>\n",
       "    <tr style=\"text-align: right;\">\n",
       "      <th></th>\n",
       "      <th>Optimum TPH</th>\n",
       "    </tr>\n",
       "    <tr>\n",
       "      <th>Month</th>\n",
       "      <th></th>\n",
       "    </tr>\n",
       "  </thead>\n",
       "  <tbody>\n",
       "    <tr>\n",
       "      <th>1</th>\n",
       "      <td>650</td>\n",
       "    </tr>\n",
       "    <tr>\n",
       "      <th>2</th>\n",
       "      <td>[650, 750]</td>\n",
       "    </tr>\n",
       "    <tr>\n",
       "      <th>3</th>\n",
       "      <td>650</td>\n",
       "    </tr>\n",
       "    <tr>\n",
       "      <th>4</th>\n",
       "      <td>650</td>\n",
       "    </tr>\n",
       "    <tr>\n",
       "      <th>5</th>\n",
       "      <td>650</td>\n",
       "    </tr>\n",
       "    <tr>\n",
       "      <th>6</th>\n",
       "      <td>750</td>\n",
       "    </tr>\n",
       "    <tr>\n",
       "      <th>7</th>\n",
       "      <td>700</td>\n",
       "    </tr>\n",
       "    <tr>\n",
       "      <th>8</th>\n",
       "      <td>650</td>\n",
       "    </tr>\n",
       "    <tr>\n",
       "      <th>9</th>\n",
       "      <td>[650, 700, 750]</td>\n",
       "    </tr>\n",
       "    <tr>\n",
       "      <th>10</th>\n",
       "      <td>[650, 700, 750]</td>\n",
       "    </tr>\n",
       "    <tr>\n",
       "      <th>11</th>\n",
       "      <td>[650, 700, 750]</td>\n",
       "    </tr>\n",
       "    <tr>\n",
       "      <th>12</th>\n",
       "      <td>[650, 700, 750]</td>\n",
       "    </tr>\n",
       "  </tbody>\n",
       "</table>\n",
       "</div>"
      ],
      "text/plain": [
       "           Optimum TPH\n",
       "Month                 \n",
       "1                  650\n",
       "2           [650, 750]\n",
       "3                  650\n",
       "4                  650\n",
       "5                  650\n",
       "6                  750\n",
       "7                  700\n",
       "8                  650\n",
       "9      [650, 700, 750]\n",
       "10     [650, 700, 750]\n",
       "11     [650, 700, 750]\n",
       "12     [650, 700, 750]"
      ]
     },
     "execution_count": 90,
     "metadata": {},
     "output_type": "execute_result"
    }
   ],
   "source": [
    "final_by_month # Most optimal TPH by month "
   ]
  },
  {
   "cell_type": "markdown",
   "id": "328ebe2d",
   "metadata": {},
   "source": [
    "---\n",
    "## 5.3 Optimum TPH per Year <a class=\"anchor\" id=\"5.3\"></a>"
   ]
  },
  {
   "cell_type": "code",
   "execution_count": 91,
   "id": "671c4c02",
   "metadata": {},
   "outputs": [
    {
     "data": {
      "text/plain": [
       "0    650\n",
       "dtype: int64"
      ]
     },
     "execution_count": 91,
     "metadata": {},
     "output_type": "execute_result"
    }
   ],
   "source": [
    "final[\"Optimum TPH\"].mode() # most optimal TPH in the whole year"
   ]
  },
  {
   "cell_type": "markdown",
   "id": "5895fdec",
   "metadata": {},
   "source": [
    "**The optimum TPH per year is `650`**"
   ]
  },
  {
   "cell_type": "markdown",
   "id": "6272563e",
   "metadata": {},
   "source": [
    "[Back to Contents](#Top)"
   ]
  },
  {
   "cell_type": "markdown",
   "id": "4d8c996c",
   "metadata": {},
   "source": [
    "---\n",
    "# 6. Conclusion <a class=\"anchor\" id=\"6\"></a>\n",
    "\n",
    "I have successfully carried out the analysis and modelling required to answer the question. However, there are some challenges I encountered during this process:\n",
    "\n",
    "**Challenges**\n",
    "> - The major challenge was the size of the dataset. Due to the smaller size of the dataset, the regression models did not get enough training data for good performance. \n",
    "> - Another major challenge is the lack of features in the dataset. Due to the features being TPH and Hits, in which hits is a target/dependednt feature the models struggled to understand the context of TPH and Hits and failed to establish a relatioship between them. This is why once I generated new features from the date column and the models performed slightly better."
   ]
  },
  {
   "cell_type": "markdown",
   "id": "e7c9ca9c",
   "metadata": {},
   "source": [
    "# The Notebook Ends Here\n",
    "\n",
    "\n",
    "\n",
    "---"
   ]
  }
 ],
 "metadata": {
  "kernelspec": {
   "display_name": "Python 3",
   "language": "python",
   "name": "python3"
  },
  "language_info": {
   "codemirror_mode": {
    "name": "ipython",
    "version": 3
   },
   "file_extension": ".py",
   "mimetype": "text/x-python",
   "name": "python",
   "nbconvert_exporter": "python",
   "pygments_lexer": "ipython3",
   "version": "3.8.8"
  }
 },
 "nbformat": 4,
 "nbformat_minor": 5
}
